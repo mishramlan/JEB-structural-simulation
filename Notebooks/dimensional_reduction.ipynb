{
 "cells": [
  {
   "cell_type": "code",
   "execution_count": 3,
   "metadata": {},
   "outputs": [
    {
     "name": "stdout",
     "output_type": "stream",
     "text": [
      "Target Shape: [88, 201, 122]\n"
     ]
    }
   ],
   "source": [
    "import os\n",
    "import numpy as np\n",
    "\n",
    "# Define path to .npy files\n",
    "npy_folder = \"/Users/User/Documents/Project_JEB/JEB_Data/SimJEB_Occupancy_Grids\"  # Change to your actual path\n",
    "\n",
    "# Find max dimensions\n",
    "max_shape = [0, 0, 0]\n",
    "\n",
    "for file in os.listdir(npy_folder):\n",
    "    if file.endswith(\".npy\"):\n",
    "        data = np.load(os.path.join(npy_folder, file))\n",
    "        shape = data.shape\n",
    "        max_shape = [max(max_shape[i], shape[i]) for i in range(len(shape))]\n",
    "\n",
    "print(\"Target Shape:\", max_shape)\n"
   ]
  },
  {
   "cell_type": "code",
   "execution_count": 4,
   "metadata": {},
   "outputs": [
    {
     "name": "stdout",
     "output_type": "stream",
     "text": [
      "All grids resized and saved to: /Users/User/Documents/Project_JEB/JEB_Data/resized_grids\n"
     ]
    }
   ],
   "source": [
    "def resize_grid(grid, target_shape):\n",
    "    \"\"\"Resize the occupancy grid by padding or cropping.\"\"\"\n",
    "    resized_grid = np.zeros(target_shape, dtype=grid.dtype)\n",
    "\n",
    "    min_shape = [min(grid.shape[i], target_shape[i]) for i in range(len(target_shape))]\n",
    "\n",
    "    # Copy data into the resized grid\n",
    "    resized_grid[:min_shape[0], :min_shape[1], :min_shape[2]] = grid[:min_shape[0], :min_shape[1], :min_shape[2]]\n",
    "    return resized_grid\n",
    "\n",
    "# Save resized grids\n",
    "resized_folder = \"/Users/User/Documents/Project_JEB/JEB_Data/resized_grids\"\n",
    "os.makedirs(resized_folder, exist_ok=True)\n",
    "\n",
    "for file in os.listdir(npy_folder):\n",
    "    if file.endswith(\".npy\"):\n",
    "        grid = np.load(os.path.join(npy_folder, file))\n",
    "        resized_grid = resize_grid(grid, max_shape)  # Resize\n",
    "        np.save(os.path.join(resized_folder, file), resized_grid)\n",
    "\n",
    "print(\"All grids resized and saved to:\", resized_folder)\n"
   ]
  },
  {
   "cell_type": "code",
   "execution_count": 5,
   "metadata": {},
   "outputs": [],
   "source": [
    "# Load resized grids\n",
    "X = []\n",
    "file_names = []\n",
    "\n",
    "for file in os.listdir(resized_folder):\n",
    "    if file.endswith(\".npy\"):\n",
    "        data = np.load(os.path.join(resized_folder, file)).flatten()  # Flatten to 1D\n",
    "        X.append(data)\n",
    "        file_names.append(file)\n",
    "\n",
    "X = np.array(X)"
   ]
  },
  {
   "cell_type": "code",
   "execution_count": 6,
   "metadata": {},
   "outputs": [
    {
     "name": "stderr",
     "output_type": "stream",
     "text": [
      "/Users/User/Documents/Project_JEB/.venv/lib/python3.12/site-packages/keras/src/layers/core/input_layer.py:27: UserWarning: Argument `input_shape` is deprecated. Use `shape` instead.\n",
      "  warnings.warn(\n"
     ]
    }
   ],
   "source": [
    "import tensorflow as tf\n",
    "from tensorflow.keras import layers, models\n",
    "\n",
    "# Define the Autoencoder\n",
    "input_dim = X.shape[1]  # Flattened input size\n",
    "\n",
    "encoder = models.Sequential([\n",
    "    layers.InputLayer(input_shape=(input_dim,)),\n",
    "    layers.Dense(256, activation=\"relu\"),\n",
    "    layers.Dense(128, activation=\"relu\"),\n",
    "    layers.Dense(50, activation=\"relu\")  # Reduced dimension\n",
    "])\n",
    "\n",
    "decoder = models.Sequential([\n",
    "    layers.InputLayer(input_shape=(50,)),\n",
    "    layers.Dense(128, activation=\"relu\"),\n",
    "    layers.Dense(256, activation=\"relu\"),\n",
    "    layers.Dense(input_dim, activation=\"sigmoid\")  # Output size same as input\n",
    "])\n",
    "\n",
    "autoencoder = models.Sequential([encoder, decoder])\n",
    "autoencoder.compile(optimizer=\"adam\", loss=\"mse\")\n",
    "\n",
    "# Train Autoencoder\n",
    "autoencoder.fit(X, X, epochs=50, batch_size=16, validation_split=0.2)\n",
    "\n",
    "# Get reduced representations\n",
    "X_reduced = encoder.predict(X)\n",
    "\n",
    "# Save reduced .npy files\n",
    "reduced_folder = \"/Users/User/Documents/Project_JEB/JEB_Data/compressed_grids\"\n",
    "os.makedirs(reduced_folder, exist_ok=True)\n",
    "\n",
    "# Save reduced occupancy grids\n",
    "for i, file in enumerate(file_names):\n",
    "    np.save(os.path.join(reduced_folder, file), X_reduced[i])\n",
    "\n",
    "print(\"Autoencoder-based Reduction Done! Saved in:\", reduced_folder)\n"
   ]
  }
 ],
 "metadata": {
  "kernelspec": {
   "display_name": ".venv",
   "language": "python",
   "name": "python3"
  },
  "language_info": {
   "codemirror_mode": {
    "name": "ipython",
    "version": 3
   },
   "file_extension": ".py",
   "mimetype": "text/x-python",
   "name": "python",
   "nbconvert_exporter": "python",
   "pygments_lexer": "ipython3",
   "version": "3.12.4"
  }
 },
 "nbformat": 4,
 "nbformat_minor": 2
}
