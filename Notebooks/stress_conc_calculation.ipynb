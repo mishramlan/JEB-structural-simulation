{
 "cells": [
  {
   "cell_type": "markdown",
   "metadata": {},
   "source": [
    "Choose the correct environment with all the dependencies install"
   ]
  },
  {
   "cell_type": "code",
   "execution_count": 1,
   "metadata": {},
   "outputs": [],
   "source": [
    "#import all dependencies\n",
    "import tensorflow as tf\n",
    "import numpy as np\n",
    "import matplotlib.pyplot as plt \n",
    "import seaborn as sns \n",
    "import pyvista as pv \n",
    "import pandas as pd\n",
    "import trimesh\n",
    "from scipy.spatial import KDTree\n",
    "import os"
   ]
  },
  {
   "cell_type": "markdown",
   "metadata": {},
   "source": [
    "Calculate high stress area"
   ]
  },
  {
   "cell_type": "code",
   "execution_count": null,
   "metadata": {},
   "outputs": [],
   "source": [
    "#Load the metadata\n",
    "cad_data = pd.read_csv('/Users/User/Documents/Project_JEB/JEB_Data/workingdata.csv')\n",
    "cad_data['High_Stress_Area'] = 0  \n",
    "#extract 'id' from the metadata set and access the corresponding volume and surface meshes\n",
    "for part_id in cad_data['id']:\n",
    "    \n",
    "    print(part_id)\n",
    "    \n",
    "    vtk_file_path = f\"/Users/User/Documents/Project_JEB/JEB_Data/SimJEB_volmesh_(vtk)/{part_id}.vtk\"\n",
    "    \n",
    "    if part_id <= 308:\n",
    "        fea_file_path = f\"/Users/User/Documents/Project_JEB/JEB_Data/SimJEB_simresults_.csv._firsthalf/SimJEB_simresults_(csv)_firsthalf/{part_id}field.csv\"\n",
    "    else:\n",
    "        fea_file_path = f\"/Users/User/Documents/Project_JEB/JEB_Data/SimJEB_simresults_.csv._secondhalf/SimJEB_simresults_(csv)_secondhalf/{part_id}field.csv\"\n",
    "    \n",
    "    #Load the volumetric mesh file\n",
    "    mesh = pv.read(vtk_file_path)\n",
    "\n",
    "    #Load the FEA data\n",
    "    sim_data = pd.read_csv(fea_file_path)\n",
    "    #select the stress type with maximum magnitude (vertical, horizontal, diagonal or torsional)\n",
    "    stress_columns = ['ver_stress', 'hor_stress', 'dia_stress', 'tor_stress']\n",
    "    sim_data['Stress'] = sim_data[stress_columns].max(axis=1)\n",
    "\n",
    "    #add the stress values to the mesh points\n",
    "    stress = sim_data['Stress'].values\n",
    "    mesh.point_data['Stress'] = stress\n",
    "\n",
    "    #select threshold value as required\n",
    "    stress_threshold = 2500.0  \n",
    "    critical_areas = mesh.threshold(value=stress_threshold, scalars='Stress')\n",
    "\n",
    "    #add the total amount of area with stress above threshold to the metadata\n",
    "    cad_data.loc[cad_data['id'] == part_id, 'High_Stress_Area'] = critical_areas.n_points\n",
    "\n",
    "\n",
    "updated_cad_data_path = '/Users/User/Documents/Project_JEB/Results/Data_Analysis/updated_cad_data.csv'\n",
    "cad_data.to_csv(updated_cad_data_path, index=False)\n"
   ]
  },
  {
   "cell_type": "markdown",
   "metadata": {},
   "source": [
    "Calculate the critical stress area ratio"
   ]
  },
  {
   "cell_type": "code",
   "execution_count": null,
   "metadata": {},
   "outputs": [],
   "source": [
    "#Load the metadata\n",
    "cad_data = pd.read_csv('/Users/User/Documents/Project_JEB/JEB_Data/workingdata.csv')\n",
    "cad_data['Critical_Area_Ratio'] = 0  \n",
    "#extract 'id' from the metadata set and access the corresponding volume and surface meshes\n",
    "for part_id in cad_data['id']:\n",
    "    \n",
    "    print(part_id)\n",
    "    vtk_file_path = f\"/Users/User/Documents/Project_JEB/JEB_Data/SimJEB_volmesh_(vtk)/{part_id}.vtk\"\n",
    "    if part_id <= 308:\n",
    "        fea_file_path = f\"/Users/User/Documents/Project_JEB/JEB_Data/SimJEB_simresults_.csv._firsthalf/SimJEB_simresults_(csv)_firsthalf/{part_id}field.csv\"\n",
    "    else:\n",
    "        fea_file_path = f\"/Users/User/Documents/Project_JEB/JEB_Data/SimJEB_simresults_.csv._secondhalf/SimJEB_simresults_(csv)_secondhalf/{part_id}field.csv\"\n",
    "    \n",
    "    #Load the volumetric mesh file\n",
    "    mesh = pv.read(vtk_file_path)\n",
    "\n",
    "    #Load the FEA data\n",
    "    sim_data = pd.read_csv(fea_file_path)\n",
    "    #select the stress type with maximum magnitude (vertical, horizontal, diagonal or torsional)\n",
    "    stress_columns = ['ver_stress', 'hor_stress', 'dia_stress', 'tor_stress']\n",
    "    sim_data['Stress'] = sim_data[stress_columns].max(axis=1)\n",
    "\n",
    "    #add the stress values to the mesh points\n",
    "    stress = sim_data['Stress'].values\n",
    "    mesh.point_data['Stress'] = stress\n",
    "\n",
    "    #select threshold value as required\n",
    "    stress_threshold = sim_data['Stress'].quantile(0.95)\n",
    "    critical_areas = mesh.threshold(value=stress_threshold, scalars='Stress')\n",
    "\n",
    "    #add the ratio of area with stress above threshold to the total surface area to the metadata\n",
    "    cad_data.loc[cad_data['id'] == part_id, 'Critical_Area_Ratio'] = critical_areas.n_points / mesh.n_points\n",
    "\n",
    "\n",
    "\n",
    "updated_cad_data_path = '/Users/User/Documents/Project_JEB/Results/Data_Analysis/updated_cad_data.csv'\n",
    "cad_data.to_csv(updated_cad_data_path, index=False)\n"
   ]
  }
 ],
 "metadata": {
  "kernelspec": {
   "display_name": ".venv",
   "language": "python",
   "name": "python3"
  },
  "language_info": {
   "codemirror_mode": {
    "name": "ipython",
    "version": 3
   },
   "file_extension": ".py",
   "mimetype": "text/x-python",
   "name": "python",
   "nbconvert_exporter": "python",
   "pygments_lexer": "ipython3",
   "version": "3.12.4"
  }
 },
 "nbformat": 4,
 "nbformat_minor": 2
}
