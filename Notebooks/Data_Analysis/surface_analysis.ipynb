{
 "cells": [
  {
   "cell_type": "code",
   "execution_count": 8,
   "metadata": {},
   "outputs": [],
   "source": [
    "import tensorflow as tf\n",
    "import numpy as np\n",
    "import matplotlib.pyplot as plt \n",
    "import seaborn as sns \n",
    "import pyvista as pv \n",
    "import pandas as pd\n",
    "import os"
   ]
  },
  {
   "cell_type": "code",
   "execution_count": 40,
   "metadata": {},
   "outputs": [
    {
     "data": {
      "application/vnd.jupyter.widget-view+json": {
       "model_id": "8f8cf6c0a2cc4779ae88245b1885efa2",
       "version_major": 2,
       "version_minor": 0
      },
      "text/plain": [
       "Widget(value='<iframe src=\"http://localhost:58817/index.html?ui=P_0x2f67f29f0_29&reconnect=auto\" class=\"pyvist…"
      ]
     },
     "metadata": {},
     "output_type": "display_data"
    }
   ],
   "source": [
    "\n",
    "import random\n",
    "\n",
    "# Directory containing the .vtk files\n",
    "vtk_directory = \"/Users/User/Documents/Project_JEB/JEB_Data/SimJEB_volmesh_(vtk)/\"\n",
    "\n",
    "# Initialize PyVista plotter\n",
    "plotter = pv.Plotter()\n",
    "random.seed(0)\n",
    "# Loop through the files in the directory\n",
    "for filename in os.listdir(vtk_directory):\n",
    "    if filename.endswith(\".vtk\"):\n",
    "        # Extract the part_id from the filename\n",
    "        part_id = int(filename.split('.')[0])  # Adjust this logic to your filename pattern\n",
    "        \n",
    "        # Check if part_id is less than 10\n",
    "        if part_id > 100 and part_id < 150:\n",
    "            # Load the VTK file\n",
    "            filepath = os.path.join(vtk_directory, filename)\n",
    "            mesh = pv.read(filepath)\n",
    "            \n",
    "            #color = (random.random(), random.random(), random.random())\n",
    "            # Add the mesh to the plotter\n",
    "            plotter.add_mesh(mesh, opacity=0.5)\n",
    "            \n",
    "\n",
    "# Show the plot\n",
    "#mesh2 = pv.read(\"/Users/User/Documents/Project_JEB/JEB_Data/SimJEB_volmesh_(vtk)/71.vtk\")\n",
    "#plotter.add_mesh(mesh2, color='red')\n",
    "plotter.show()\n"
   ]
  },
  {
   "cell_type": "code",
   "execution_count": 44,
   "metadata": {},
   "outputs": [
    {
     "data": {
      "application/vnd.jupyter.widget-view+json": {
       "model_id": "04aa00b24f284575bd14ce1684cf16f8",
       "version_major": 2,
       "version_minor": 0
      },
      "text/plain": [
       "Widget(value='<iframe src=\"http://localhost:58817/index.html?ui=P_0x2f67f9d60_33&reconnect=auto\" class=\"pyvist…"
      ]
     },
     "metadata": {},
     "output_type": "display_data"
    }
   ],
   "source": [
    "\n",
    "\n",
    "# Load the .vtk file\n",
    "file_path = '/Users/User/Documents/Project_JEB/JEB_Data/SimJEB_volmesh_(vtk)/0.vtk'\n",
    "mesh = pv.read(file_path)\n",
    "mesh2 = pv.read('/Users/User/Documents/Project_JEB/JEB_Data/SimJEB_volmesh_(vtk)/4.vtk')\n",
    "# Get the bounding box of the mesh\n",
    "bounds = mesh.bounds\n",
    "x_min, x_max, y_min, y_max, z_min, z_max = bounds\n",
    "\n",
    "# Create bounding planes\n",
    "bounding_planes = [\n",
    "    pv.Plane(center=((x_min-1), ((y_min-1) + (y_max+1)) / 2, ((z_min-1) + (z_max+1)) / 2), i_size=(y_max+1) - (y_min-1), j_size=(z_max+1) - (z_min-1), direction=(1, 0, 0)),  # X-min plane\n",
    "    pv.Plane(center=((x_max+1), ((y_min-1) + (y_max+1)) / 2, ((z_min-1) + (z_max+1)) / 2), i_size=(y_max+1) - (y_min-1), j_size=(z_max+1) - (z_min-1), direction=(-1, 0, 0)),  # X-max plane\n",
    "    pv.Plane(center=(((x_min-1) + (x_max+1)) / 2, (y_min-1), ((z_min-1) + (z_max+1)) / 2), i_size=(x_max+1) - (x_min-1), j_size=(z_max+1) - (z_min-1), direction=(0, 1, 0)),  # Y-min plane\n",
    "    pv.Plane(center=(((x_min-1) + (x_max+1)) / 2, (y_max+1), ((z_min-1) + (z_max+1)) / 2), i_size=(x_max+1) - (x_min-1), j_size=(z_max+1) - (z_min-1), direction=(0, -1, 0)),  # Y-max plane\n",
    "    pv.Plane(center=(((x_min-1) + (x_max+1)) / 2, ((y_min-1) + (y_max+1)) / 2, (z_min-1)), i_size=(x_max+1) - (x_min-1), j_size=(y_max+1) - (y_min-1), direction=(0, 0, 1)),  # Z-min plane\n",
    "    pv.Plane(center=(((x_min-1) + (x_max+1)) / 2, ((y_min-1) + (y_max+1)) / 2, (x_max+1)), i_size=(x_max+1) - (x_min-1), j_size=(y_max+1) - (y_min-1), direction=(0, 0, -1)),  # Z-max plane\n",
    "]\n",
    "\n",
    "# Plot the mesh with bounding planes\n",
    "plotter = pv.Plotter()\n",
    "plotter.add_mesh(mesh, color='lightblue', opacity=0.6)\n",
    "plotter.add_mesh(mesh2, color='red', opacity=0.6)\n",
    "for plane in bounding_planes:\n",
    "    plotter.add_mesh(plane, color='red', style='wireframe', line_width=2)\n",
    "plotter.show()\n"
   ]
  },
  {
   "cell_type": "code",
   "execution_count": 2,
   "metadata": {},
   "outputs": [
    {
     "name": "stdout",
     "output_type": "stream",
     "text": [
      "(-39.1626, 67.33007, -163.357, 16.81476, -0.0007957, 62.5031)\n"
     ]
    }
   ],
   "source": [
    "# Load the .vtk file\n",
    "file_path = '/Users/User/Documents/Project_JEB/JEB_Data/SimJEB_volmesh_(vtk)/0.vtk'\n",
    "mesh = pv.read(file_path)\n",
    "# Get the bounding box of the mesh\n",
    "bounds = mesh.bounds\n",
    "x_min, x_max, y_min, y_max, z_min, z_max = bounds\n",
    "print(bounds)"
   ]
  },
  {
   "cell_type": "code",
   "execution_count": 5,
   "metadata": {},
   "outputs": [
    {
     "name": "stdout",
     "output_type": "stream",
     "text": [
      "169.vtk: Out of bounds\n",
      "196.vtk: Out of bounds\n",
      "357.vtk: Out of bounds\n",
      "223.vtk: Out of bounds\n",
      "356.vtk: Out of bounds\n",
      "197.vtk: Out of bounds\n",
      "69.vtk: Out of bounds\n",
      "96.vtk: Out of bounds\n",
      "94.vtk: Out of bounds\n",
      "383.vtk: Out of bounds\n",
      "382.vtk: Out of bounds\n",
      "386.vtk: Out of bounds\n",
      "387.vtk: Out of bounds\n",
      "393.vtk: Out of bounds\n",
      "92.vtk: Out of bounds\n",
      "87.vtk: Out of bounds\n",
      "123.vtk: Out of bounds\n",
      "518.vtk: Out of bounds\n",
      "493.vtk: Out of bounds\n",
      "291.vtk: Out of bounds\n",
      "293.vtk: Out of bounds\n",
      "261.vtk: Out of bounds\n",
      "114.vtk: Out of bounds\n",
      "302.vtk: Out of bounds\n",
      "262.vtk: Out of bounds\n",
      "106.vtk: Out of bounds\n",
      "271.vtk: Out of bounds\n",
      "413.vtk: Out of bounds\n",
      "407.vtk: Out of bounds\n",
      "228.vtk: Out of bounds\n",
      "374.vtk: Out of bounds\n",
      "412.vtk: Out of bounds\n",
      "614.vtk: Out of bounds\n",
      "204.vtk: Out of bounds\n",
      "205.vtk: Out of bounds\n",
      "601.vtk: Out of bounds\n",
      "167.vtk: Out of bounds\n",
      "165.vtk: Out of bounds\n",
      "373.vtk: Out of bounds\n",
      "366.vtk: Out of bounds\n"
     ]
    }
   ],
   "source": [
    "\n",
    "reference_bounds = {\n",
    "    \"x_min\": x_min - 1,  # Buffer of 1\n",
    "    \"x_max\": x_max + 1,  # Replace 10 with the actual max value of the reference bounds\n",
    "    \"y_min\": y_min - 1,\n",
    "    \"y_max\": y_max + 1,\n",
    "    \"z_min\": z_min - 1,\n",
    "    \"z_max\": z_max + 1,\n",
    "}\n",
    "\n",
    "def check_bounds_within_reference(file_path, reference_bounds):\n",
    "    # Load the mesh\n",
    "    mesh = pv.read(file_path)\n",
    "    \n",
    "    # Get the bounds of the mesh\n",
    "    x_min, x_max, y_min, y_max, z_min, z_max = mesh.bounds\n",
    "\n",
    "    # Check if the mesh bounds lie within the reference bounds\n",
    "    within_bounds = (\n",
    "        reference_bounds[\"x_min\"] <= x_min <= reference_bounds[\"x_max\"] and\n",
    "        reference_bounds[\"x_min\"] <= x_max <= reference_bounds[\"x_max\"] and\n",
    "        reference_bounds[\"y_min\"] <= y_min <= reference_bounds[\"y_max\"] and\n",
    "        reference_bounds[\"y_min\"] <= y_max <= reference_bounds[\"y_max\"] and\n",
    "        reference_bounds[\"z_min\"] <= z_min <= reference_bounds[\"z_max\"] and\n",
    "        reference_bounds[\"z_min\"] <= z_max <= reference_bounds[\"z_max\"]\n",
    "    )\n",
    "\n",
    "    return within_bounds\n",
    "\n",
    "# Directory containing the .vtk files\n",
    "vtk_directory = \"/Users/User/Documents/Project_JEB/JEB_Data/SimJEB_volmesh_(vtk)\"  # Replace with the actual path to your .vtk files\n",
    "\n",
    "# Iterate through all .vtk files and check their bounds\n",
    "results = {}\n",
    "for file_name in os.listdir(vtk_directory):\n",
    "    if file_name.endswith(\".vtk\"):\n",
    "        file_path = os.path.join(vtk_directory, file_name)\n",
    "        is_within_bounds = check_bounds_within_reference(file_path, reference_bounds)\n",
    "        results[file_name] = is_within_bounds\n",
    "\n",
    "# Print results\n",
    "for file_name, is_within_bounds in results.items():\n",
    "    status = \"Within bounds\" if is_within_bounds else \"Out of bounds\"\n",
    "    if status == \"Out of bounds\":\n",
    "        print(f\"{file_name}: {status}\")\n"
   ]
  },
  {
   "cell_type": "code",
   "execution_count": 4,
   "metadata": {},
   "outputs": [
    {
     "data": {
      "application/vnd.jupyter.widget-view+json": {
       "model_id": "9451fd3ca2114a6c9e762dd83f7fd12a",
       "version_major": 2,
       "version_minor": 0
      },
      "text/plain": [
       "Widget(value='<iframe src=\"http://localhost:60889/index.html?ui=P_0x2d5f11fd0_2&reconnect=auto\" class=\"pyvista…"
      ]
     },
     "metadata": {},
     "output_type": "display_data"
    }
   ],
   "source": [
    "id = [169, 196, 357, 223, 356, 197, 69, 96, 94, 383, 382, 386, 387, 393, 92, 87, 123, 518, 493, 291, 293, 261, 114, 302, 262, 106, 271, 413, 407, 228, 374, 412, 614, 204, 205, 167, 165, 373, 366]\n",
    "ref = pv.read('/Users/User/Documents/Project_JEB/JEB_Data/SimJEB_volmesh_(vtk)/0.vtk')\n",
    "bounds = ref.bounds\n",
    "x_min, x_max, y_min, y_max, z_min, z_max = bounds\n",
    "\n",
    "# Create bounding planes\n",
    "bounding_planes = [\n",
    "    pv.Plane(center=((x_min-1), ((y_min-1) + (y_max+1)) / 2, ((z_min-1) + (z_max+1)) / 2), i_size=(y_max+1) - (y_min-1), j_size=(z_max+1) - (z_min-1), direction=(1, 0, 0)),  # X-min plane\n",
    "    pv.Plane(center=((x_max+1), ((y_min-1) + (y_max+1)) / 2, ((z_min-1) + (z_max+1)) / 2), i_size=(y_max+1) - (y_min-1), j_size=(z_max+1) - (z_min-1), direction=(-1, 0, 0)),  # X-max plane\n",
    "    pv.Plane(center=(((x_min-1) + (x_max+1)) / 2, (y_min-1), ((z_min-1) + (z_max+1)) / 2), i_size=(x_max+1) - (x_min-1), j_size=(z_max+1) - (z_min-1), direction=(0, 1, 0)),  # Y-min plane\n",
    "    pv.Plane(center=(((x_min-1) + (x_max+1)) / 2, (y_max+1), ((z_min-1) + (z_max+1)) / 2), i_size=(x_max+1) - (x_min-1), j_size=(z_max+1) - (z_min-1), direction=(0, -1, 0)),  # Y-max plane\n",
    "    pv.Plane(center=(((x_min-1) + (x_max+1)) / 2, ((y_min-1) + (y_max+1)) / 2, (z_min-1)), i_size=(x_max+1) - (x_min-1), j_size=(y_max+1) - (y_min-1), direction=(0, 0, 1)),  # Z-min plane\n",
    "    pv.Plane(center=(((x_min-1) + (x_max+1)) / 2, ((y_min-1) + (y_max+1)) / 2, (x_max+1)), i_size=(x_max+1) - (x_min-1), j_size=(y_max+1) - (y_min-1), direction=(0, 0, -1)),  # Z-max plane\n",
    "]\n",
    "plotter = pv.Plotter()\n",
    "for plane in bounding_planes:\n",
    "    plotter.add_mesh(plane, color='red', style='wireframe', line_width=2)\n",
    "for id in id:\n",
    "    mesh = pv.read(f'/Users/User/Documents/Project_JEB/JEB_Data/SimJEB_volmesh_(vtk)/{id}.vtk')\n",
    "    plotter.add_mesh(mesh, color='lightblue', opacity=0.6)\n",
    "plotter.add_mesh(ref, color='red', style='wireframe')   \n",
    "plotter.show()\n"
   ]
  },
  {
   "cell_type": "code",
   "execution_count": 10,
   "metadata": {},
   "outputs": [
    {
     "data": {
      "text/plain": [
       "39"
      ]
     },
     "execution_count": 10,
     "metadata": {},
     "output_type": "execute_result"
    }
   ],
   "source": [
    "id = [169, 196, 357, 223, 356, 197, 69, 96, 94, 383, 382, 386, 387, 393, 92, 87, 123, 518, 493, 291, 293, 261, 114, 302, 262, 106, 271, 413, 407, 228, 374, 412, 614, 204, 205, 167, 165, 373, 366]\n",
    "len(id)"
   ]
  },
  {
   "cell_type": "code",
   "execution_count": 12,
   "metadata": {},
   "outputs": [
    {
     "data": {
      "application/vnd.jupyter.widget-view+json": {
       "model_id": "3af77f57a8614c24ad4b14b7eaf33180",
       "version_major": 2,
       "version_minor": 0
      },
      "text/plain": [
       "Widget(value='<iframe src=\"http://localhost:62408/index.html?ui=P_0x2841f23c0_10&reconnect=auto\" class=\"pyvist…"
      ]
     },
     "metadata": {},
     "output_type": "display_data"
    }
   ],
   "source": [
    "ref = pv.read('/Users/User/Documents/Project_JEB/JEB_Data/SimJEB_volmesh_(vtk)/0.vtk')\n",
    "bounds = ref.bounds\n",
    "x_min, x_max, y_min, y_max, z_min, z_max = bounds\n",
    "\n",
    "# Create bounding planes\n",
    "bounding_planes = [\n",
    "    pv.Plane(center=((x_min-1), ((y_min-1) + (y_max+1)) / 2, ((z_min-1) + (z_max+1)) / 2), i_size=(y_max+1) - (y_min-1), j_size=(z_max+1) - (z_min-1), direction=(1, 0, 0)),  # X-min plane\n",
    "    pv.Plane(center=((x_max+1), ((y_min-1) + (y_max+1)) / 2, ((z_min-1) + (z_max+1)) / 2), i_size=(y_max+1) - (y_min-1), j_size=(z_max+1) - (z_min-1), direction=(-1, 0, 0)),  # X-max plane\n",
    "    pv.Plane(center=(((x_min-1) + (x_max+1)) / 2, (y_min-1), ((z_min-1) + (z_max+1)) / 2), i_size=(x_max+1) - (x_min-1), j_size=(z_max+1) - (z_min-1), direction=(0, 1, 0)),  # Y-min plane\n",
    "    pv.Plane(center=(((x_min-1) + (x_max+1)) / 2, (y_max+1), ((z_min-1) + (z_max+1)) / 2), i_size=(x_max+1) - (x_min-1), j_size=(z_max+1) - (z_min-1), direction=(0, -1, 0)),  # Y-max plane\n",
    "    pv.Plane(center=(((x_min-1) + (x_max+1)) / 2, ((y_min-1) + (y_max+1)) / 2, (z_min-1)), i_size=(x_max+1) - (x_min-1), j_size=(y_max+1) - (y_min-1), direction=(0, 0, 1)),  # Z-min plane\n",
    "    pv.Plane(center=(((x_min-1) + (x_max+1)) / 2, ((y_min-1) + (y_max+1)) / 2, (x_max+1)), i_size=(x_max+1) - (x_min-1), j_size=(y_max+1) - (y_min-1), direction=(0, 0, -1)),  # Z-max plane\n",
    "]\n",
    "plotter = pv.Plotter()\n",
    "for plane in bounding_planes:\n",
    "    plotter.add_mesh(plane, color='red', style='wireframe', line_width=2)\n",
    "mesh = pv.read('/Users/User/Documents/Project_JEB/JEB_Data/SimJEB_volmesh_(vtk)/96.vtk')\n",
    "plotter.add_mesh(mesh, color='lightblue')   \n",
    "plotter.show()\n"
   ]
  },
  {
   "cell_type": "code",
   "execution_count": 13,
   "metadata": {},
   "outputs": [
    {
     "data": {
      "application/vnd.jupyter.widget-view+json": {
       "model_id": "c72b163615ec48488c1ecc23e82d4616",
       "version_major": 2,
       "version_minor": 0
      },
      "text/plain": [
       "Widget(value='<iframe src=\"http://localhost:65076/index.html?ui=P_0x2f3bed280_8&reconnect=auto\" class=\"pyvista…"
      ]
     },
     "metadata": {},
     "output_type": "display_data"
    }
   ],
   "source": [
    "import pyvista as pv\n",
    "import vtk\n",
    "import numpy as np\n",
    "\n",
    "# Load the surface mesh\n",
    "surface_mesh = pv.read(\"/Users/User/Documents/Project_JEB/JEB_Data/SimJEB_surfmesh_(obj)/0.obj\")  # Replace with your surface mesh file\n",
    "\n",
    "# Load the volumetric mesh\n",
    "volumetric_mesh = pv.read(\"/Users/User/Documents/Project_JEB/JEB_Data/SimJEB_volmesh_(vtk)/0.vtk\")  # Replace with your volumetric mesh file\n",
    "\n",
    "# Extract points from the mesh\n",
    "point_cloud = volumetric_mesh.points\n",
    "\n",
    "# Visualize the mesh and the plane\n",
    "plotter = pv.Plotter()\n",
    "plotter.add_mesh(point_cloud, color=\"red\")\n",
    "plotter.show()\n"
   ]
  },
  {
   "cell_type": "code",
   "execution_count": 51,
   "metadata": {},
   "outputs": [
    {
     "name": "stdout",
     "output_type": "stream",
     "text": [
      "Median Thickness: 1.3150820182391025\n"
     ]
    },
    {
     "data": {
      "application/vnd.jupyter.widget-view+json": {
       "model_id": "6dfd8d7813e44e8d835420ca0ab9aeab",
       "version_major": 2,
       "version_minor": 0
      },
      "text/plain": [
       "Widget(value='<iframe src=\"http://localhost:65076/index.html?ui=P_0x3a6220890_35&reconnect=auto\" class=\"pyvist…"
      ]
     },
     "metadata": {},
     "output_type": "display_data"
    }
   ],
   "source": [
    "import pyvista as pv\n",
    "import trimesh\n",
    "from scipy.spatial import KDTree\n",
    "import numpy as np\n",
    "\n",
    "# Load the VTK volume mesh\n",
    "vtk_file_path = \"/Users/User/Documents/Project_JEB/JEB_Data/SimJEB_volmesh_(vtk)/9.vtk\"  # Update with your actual file path\n",
    "volume_mesh = pv.read(vtk_file_path)\n",
    "point_cloud = volume_mesh.points  # Extract point cloud\n",
    "\n",
    "# Load the surface mesh\n",
    "obj_file_path = \"/Users/User/Documents/Project_JEB/JEB_Data/SimJEB_surfmesh_(obj)/9.obj\"\n",
    "surface_mesh = trimesh.load_mesh(obj_file_path)\n",
    "surface_points = surface_mesh.vertices  # Extract surface points\n",
    "\n",
    "# Compute nearest distance using KDTree\n",
    "kdtree = KDTree(surface_points)\n",
    "distances, _ = kdtree.query(point_cloud)\n",
    "thickness = np.quantile(distances, 0.95)\n",
    "# Create PyVista point cloud for visualization\n",
    "point_cloud_mesh = pv.PolyData(point_cloud)\n",
    "volume_mesh[\"Distance\"] = distances  # Assign distances as scalar values\n",
    "volume_mesh = volume_mesh.clip('x', invert=True)\n",
    "print(\"Median Thickness:\", np.quantile(distances, 0.75))\n",
    "# Plot the point cloud with distances\n",
    "plotter = pv.Plotter()\n",
    "plotter.add_mesh(volume_mesh, scalars=\"Distance\", cmap=\"jet\", point_size=3, render_points_as_spheres=True)\n",
    "plotter.add_mesh(pv.PolyData(surface_points), color=\"white\", point_size=3, render_points_as_spheres=True, opacity=0)\n",
    "#plotter.add_scalar_bar(title=\"Distance to Surface\")\n",
    "plotter.show()\n"
   ]
  },
  {
   "cell_type": "code",
   "execution_count": 1,
   "metadata": {},
   "outputs": [
    {
     "name": "stdout",
     "output_type": "stream",
     "text": [
      "(112873,)\n"
     ]
    }
   ],
   "source": [
    "import pyvista as pv\n",
    "import trimesh\n",
    "from scipy.spatial import KDTree\n",
    "import numpy as np\n",
    "import pandas as pd\n",
    "\n",
    "fea_data = pd.read_csv('/Users/User/Documents/Project_JEB/JEB_Data/SimJEB_simresults_.csv._firsthalf/SimJEB_simresults_(csv)_firsthalf/0field.csv')\n",
    "# Load the VTK volume mesh\n",
    "vtk_file_path = \"/Users/User/Documents/Project_JEB/JEB_Data/SimJEB_volmesh_(vtk)/0.vtk\"  # Update with your actual file path\n",
    "volume_mesh = pv.read(vtk_file_path)\n",
    "point_cloud = volume_mesh.points  # Extract point cloud\n",
    "\n",
    "# Load the surface mesh\n",
    "obj_file_path = \"/Users/User/Documents/Project_JEB/JEB_Data/SimJEB_surfmesh_(obj)/0.obj\"\n",
    "surface_mesh = trimesh.load_mesh(obj_file_path)\n",
    "surface_points = surface_mesh.vertices  # Extract surface points\n",
    "# Compute nearest distance using KDTree\n",
    "kdtree = KDTree(surface_points)\n",
    "distances, _ = kdtree.query(point_cloud)"
   ]
  },
  {
   "cell_type": "code",
   "execution_count": 5,
   "metadata": {},
   "outputs": [],
   "source": [
    "fea_data['dist_to_surface'] = distances"
   ]
  },
  {
   "cell_type": "code",
   "execution_count": 6,
   "metadata": {},
   "outputs": [
    {
     "data": {
      "text/html": [
       "<div>\n",
       "<style scoped>\n",
       "    .dataframe tbody tr th:only-of-type {\n",
       "        vertical-align: middle;\n",
       "    }\n",
       "\n",
       "    .dataframe tbody tr th {\n",
       "        vertical-align: top;\n",
       "    }\n",
       "\n",
       "    .dataframe thead th {\n",
       "        text-align: right;\n",
       "    }\n",
       "</style>\n",
       "<table border=\"1\" class=\"dataframe\">\n",
       "  <thead>\n",
       "    <tr style=\"text-align: right;\">\n",
       "      <th></th>\n",
       "      <th>id</th>\n",
       "      <th>surf</th>\n",
       "      <th>x</th>\n",
       "      <th>y</th>\n",
       "      <th>z</th>\n",
       "      <th>ver_xdisp</th>\n",
       "      <th>ver_ydisp</th>\n",
       "      <th>ver_zdisp</th>\n",
       "      <th>ver_magdisp</th>\n",
       "      <th>ver_stress</th>\n",
       "      <th>...</th>\n",
       "      <th>dia_ydisp</th>\n",
       "      <th>dia_zdisp</th>\n",
       "      <th>dia_magdisp</th>\n",
       "      <th>dia_stress</th>\n",
       "      <th>tor_xdisp</th>\n",
       "      <th>tor_ydisp</th>\n",
       "      <th>tor_zdisp</th>\n",
       "      <th>tor_magdisp</th>\n",
       "      <th>tor_stress</th>\n",
       "      <th>dist_to_surface</th>\n",
       "    </tr>\n",
       "  </thead>\n",
       "  <tbody>\n",
       "    <tr>\n",
       "      <th>0</th>\n",
       "      <td>1</td>\n",
       "      <td>1</td>\n",
       "      <td>26.34596</td>\n",
       "      <td>-76.11703</td>\n",
       "      <td>37.736800</td>\n",
       "      <td>0.057383</td>\n",
       "      <td>-0.003949</td>\n",
       "      <td>0.043452</td>\n",
       "      <td>0.072087</td>\n",
       "      <td>22.63424</td>\n",
       "      <td>...</td>\n",
       "      <td>-0.001289</td>\n",
       "      <td>0.044190</td>\n",
       "      <td>0.047116</td>\n",
       "      <td>19.53924</td>\n",
       "      <td>0.003498</td>\n",
       "      <td>0.001634</td>\n",
       "      <td>-0.001335</td>\n",
       "      <td>0.004086</td>\n",
       "      <td>38.14661</td>\n",
       "      <td>0.000003</td>\n",
       "    </tr>\n",
       "    <tr>\n",
       "      <th>1</th>\n",
       "      <td>2</td>\n",
       "      <td>1</td>\n",
       "      <td>25.76159</td>\n",
       "      <td>-75.67872</td>\n",
       "      <td>37.736800</td>\n",
       "      <td>0.057451</td>\n",
       "      <td>-0.003614</td>\n",
       "      <td>0.044986</td>\n",
       "      <td>0.073057</td>\n",
       "      <td>37.77249</td>\n",
       "      <td>...</td>\n",
       "      <td>-0.001009</td>\n",
       "      <td>0.044713</td>\n",
       "      <td>0.047572</td>\n",
       "      <td>29.81713</td>\n",
       "      <td>0.003128</td>\n",
       "      <td>0.001658</td>\n",
       "      <td>-0.001228</td>\n",
       "      <td>0.003747</td>\n",
       "      <td>46.30497</td>\n",
       "      <td>0.000004</td>\n",
       "    </tr>\n",
       "    <tr>\n",
       "      <th>2</th>\n",
       "      <td>3</td>\n",
       "      <td>1</td>\n",
       "      <td>25.33441</td>\n",
       "      <td>-75.18011</td>\n",
       "      <td>37.736800</td>\n",
       "      <td>0.057497</td>\n",
       "      <td>-0.003215</td>\n",
       "      <td>0.046128</td>\n",
       "      <td>0.073784</td>\n",
       "      <td>66.24046</td>\n",
       "      <td>...</td>\n",
       "      <td>-0.000672</td>\n",
       "      <td>0.045101</td>\n",
       "      <td>0.047903</td>\n",
       "      <td>52.59052</td>\n",
       "      <td>0.002671</td>\n",
       "      <td>0.001702</td>\n",
       "      <td>-0.001107</td>\n",
       "      <td>0.003355</td>\n",
       "      <td>50.45366</td>\n",
       "      <td>0.000001</td>\n",
       "    </tr>\n",
       "    <tr>\n",
       "      <th>3</th>\n",
       "      <td>4</td>\n",
       "      <td>1</td>\n",
       "      <td>25.68899</td>\n",
       "      <td>-75.57792</td>\n",
       "      <td>38.086580</td>\n",
       "      <td>0.058325</td>\n",
       "      <td>-0.003699</td>\n",
       "      <td>0.045152</td>\n",
       "      <td>0.073853</td>\n",
       "      <td>37.47857</td>\n",
       "      <td>...</td>\n",
       "      <td>-0.001060</td>\n",
       "      <td>0.044744</td>\n",
       "      <td>0.047505</td>\n",
       "      <td>29.73936</td>\n",
       "      <td>0.003115</td>\n",
       "      <td>0.001591</td>\n",
       "      <td>-0.001205</td>\n",
       "      <td>0.003700</td>\n",
       "      <td>45.95542</td>\n",
       "      <td>0.000004</td>\n",
       "    </tr>\n",
       "    <tr>\n",
       "      <th>4</th>\n",
       "      <td>5</td>\n",
       "      <td>1</td>\n",
       "      <td>26.11007</td>\n",
       "      <td>-75.85416</td>\n",
       "      <td>38.474910</td>\n",
       "      <td>0.059213</td>\n",
       "      <td>-0.004081</td>\n",
       "      <td>0.044012</td>\n",
       "      <td>0.073892</td>\n",
       "      <td>22.65861</td>\n",
       "      <td>...</td>\n",
       "      <td>-0.001355</td>\n",
       "      <td>0.044321</td>\n",
       "      <td>0.047037</td>\n",
       "      <td>19.77427</td>\n",
       "      <td>0.003441</td>\n",
       "      <td>0.001480</td>\n",
       "      <td>-0.001279</td>\n",
       "      <td>0.003959</td>\n",
       "      <td>40.52113</td>\n",
       "      <td>0.000002</td>\n",
       "    </tr>\n",
       "    <tr>\n",
       "      <th>...</th>\n",
       "      <td>...</td>\n",
       "      <td>...</td>\n",
       "      <td>...</td>\n",
       "      <td>...</td>\n",
       "      <td>...</td>\n",
       "      <td>...</td>\n",
       "      <td>...</td>\n",
       "      <td>...</td>\n",
       "      <td>...</td>\n",
       "      <td>...</td>\n",
       "      <td>...</td>\n",
       "      <td>...</td>\n",
       "      <td>...</td>\n",
       "      <td>...</td>\n",
       "      <td>...</td>\n",
       "      <td>...</td>\n",
       "      <td>...</td>\n",
       "      <td>...</td>\n",
       "      <td>...</td>\n",
       "      <td>...</td>\n",
       "      <td>...</td>\n",
       "    </tr>\n",
       "    <tr>\n",
       "      <th>112868</th>\n",
       "      <td>112869</td>\n",
       "      <td>0</td>\n",
       "      <td>-22.59945</td>\n",
       "      <td>-67.48743</td>\n",
       "      <td>6.008955</td>\n",
       "      <td>-0.027471</td>\n",
       "      <td>-0.001805</td>\n",
       "      <td>0.198984</td>\n",
       "      <td>0.200880</td>\n",
       "      <td>23.48609</td>\n",
       "      <td>...</td>\n",
       "      <td>0.001439</td>\n",
       "      <td>0.105387</td>\n",
       "      <td>0.113854</td>\n",
       "      <td>16.70758</td>\n",
       "      <td>0.000333</td>\n",
       "      <td>-0.005117</td>\n",
       "      <td>-0.003883</td>\n",
       "      <td>0.006432</td>\n",
       "      <td>29.62181</td>\n",
       "      <td>0.785774</td>\n",
       "    </tr>\n",
       "    <tr>\n",
       "      <th>112869</th>\n",
       "      <td>112870</td>\n",
       "      <td>0</td>\n",
       "      <td>-22.59731</td>\n",
       "      <td>-77.15508</td>\n",
       "      <td>6.012085</td>\n",
       "      <td>-0.027963</td>\n",
       "      <td>-0.001016</td>\n",
       "      <td>0.201287</td>\n",
       "      <td>0.203223</td>\n",
       "      <td>10.16809</td>\n",
       "      <td>...</td>\n",
       "      <td>0.000089</td>\n",
       "      <td>0.106926</td>\n",
       "      <td>0.115583</td>\n",
       "      <td>17.40458</td>\n",
       "      <td>0.000546</td>\n",
       "      <td>-0.005432</td>\n",
       "      <td>0.001709</td>\n",
       "      <td>0.005720</td>\n",
       "      <td>32.17997</td>\n",
       "      <td>0.492978</td>\n",
       "    </tr>\n",
       "    <tr>\n",
       "      <th>112870</th>\n",
       "      <td>112871</td>\n",
       "      <td>0</td>\n",
       "      <td>-22.47505</td>\n",
       "      <td>-78.24671</td>\n",
       "      <td>5.945347</td>\n",
       "      <td>-0.028054</td>\n",
       "      <td>-0.000905</td>\n",
       "      <td>0.200829</td>\n",
       "      <td>0.202781</td>\n",
       "      <td>11.24344</td>\n",
       "      <td>...</td>\n",
       "      <td>-0.000047</td>\n",
       "      <td>0.106707</td>\n",
       "      <td>0.115346</td>\n",
       "      <td>17.23007</td>\n",
       "      <td>0.000564</td>\n",
       "      <td>-0.005401</td>\n",
       "      <td>0.002346</td>\n",
       "      <td>0.005915</td>\n",
       "      <td>33.88505</td>\n",
       "      <td>0.995697</td>\n",
       "    </tr>\n",
       "    <tr>\n",
       "      <th>112871</th>\n",
       "      <td>112872</td>\n",
       "      <td>0</td>\n",
       "      <td>-22.38663</td>\n",
       "      <td>-79.92560</td>\n",
       "      <td>6.285209</td>\n",
       "      <td>-0.026887</td>\n",
       "      <td>-0.000781</td>\n",
       "      <td>0.200335</td>\n",
       "      <td>0.202133</td>\n",
       "      <td>12.15540</td>\n",
       "      <td>...</td>\n",
       "      <td>-0.000293</td>\n",
       "      <td>0.106387</td>\n",
       "      <td>0.114809</td>\n",
       "      <td>19.00031</td>\n",
       "      <td>0.000590</td>\n",
       "      <td>-0.005228</td>\n",
       "      <td>0.003333</td>\n",
       "      <td>0.006228</td>\n",
       "      <td>35.13647</td>\n",
       "      <td>0.869049</td>\n",
       "    </tr>\n",
       "    <tr>\n",
       "      <th>112872</th>\n",
       "      <td>112873</td>\n",
       "      <td>0</td>\n",
       "      <td>-17.04850</td>\n",
       "      <td>-67.17598</td>\n",
       "      <td>3.919361</td>\n",
       "      <td>-0.032475</td>\n",
       "      <td>-0.003360</td>\n",
       "      <td>0.182176</td>\n",
       "      <td>0.185078</td>\n",
       "      <td>70.20459</td>\n",
       "      <td>...</td>\n",
       "      <td>-0.000270</td>\n",
       "      <td>0.099466</td>\n",
       "      <td>0.109050</td>\n",
       "      <td>39.80056</td>\n",
       "      <td>0.000076</td>\n",
       "      <td>-0.004976</td>\n",
       "      <td>-0.003112</td>\n",
       "      <td>0.005870</td>\n",
       "      <td>29.58362</td>\n",
       "      <td>0.556905</td>\n",
       "    </tr>\n",
       "  </tbody>\n",
       "</table>\n",
       "<p>112873 rows × 26 columns</p>\n",
       "</div>"
      ],
      "text/plain": [
       "            id  surf         x         y          z  ver_xdisp  ver_ydisp  \\\n",
       "0            1     1  26.34596 -76.11703  37.736800   0.057383  -0.003949   \n",
       "1            2     1  25.76159 -75.67872  37.736800   0.057451  -0.003614   \n",
       "2            3     1  25.33441 -75.18011  37.736800   0.057497  -0.003215   \n",
       "3            4     1  25.68899 -75.57792  38.086580   0.058325  -0.003699   \n",
       "4            5     1  26.11007 -75.85416  38.474910   0.059213  -0.004081   \n",
       "...        ...   ...       ...       ...        ...        ...        ...   \n",
       "112868  112869     0 -22.59945 -67.48743   6.008955  -0.027471  -0.001805   \n",
       "112869  112870     0 -22.59731 -77.15508   6.012085  -0.027963  -0.001016   \n",
       "112870  112871     0 -22.47505 -78.24671   5.945347  -0.028054  -0.000905   \n",
       "112871  112872     0 -22.38663 -79.92560   6.285209  -0.026887  -0.000781   \n",
       "112872  112873     0 -17.04850 -67.17598   3.919361  -0.032475  -0.003360   \n",
       "\n",
       "        ver_zdisp  ver_magdisp  ver_stress  ...  dia_ydisp  dia_zdisp  \\\n",
       "0        0.043452     0.072087    22.63424  ...  -0.001289   0.044190   \n",
       "1        0.044986     0.073057    37.77249  ...  -0.001009   0.044713   \n",
       "2        0.046128     0.073784    66.24046  ...  -0.000672   0.045101   \n",
       "3        0.045152     0.073853    37.47857  ...  -0.001060   0.044744   \n",
       "4        0.044012     0.073892    22.65861  ...  -0.001355   0.044321   \n",
       "...           ...          ...         ...  ...        ...        ...   \n",
       "112868   0.198984     0.200880    23.48609  ...   0.001439   0.105387   \n",
       "112869   0.201287     0.203223    10.16809  ...   0.000089   0.106926   \n",
       "112870   0.200829     0.202781    11.24344  ...  -0.000047   0.106707   \n",
       "112871   0.200335     0.202133    12.15540  ...  -0.000293   0.106387   \n",
       "112872   0.182176     0.185078    70.20459  ...  -0.000270   0.099466   \n",
       "\n",
       "        dia_magdisp  dia_stress  tor_xdisp  tor_ydisp  tor_zdisp  tor_magdisp  \\\n",
       "0          0.047116    19.53924   0.003498   0.001634  -0.001335     0.004086   \n",
       "1          0.047572    29.81713   0.003128   0.001658  -0.001228     0.003747   \n",
       "2          0.047903    52.59052   0.002671   0.001702  -0.001107     0.003355   \n",
       "3          0.047505    29.73936   0.003115   0.001591  -0.001205     0.003700   \n",
       "4          0.047037    19.77427   0.003441   0.001480  -0.001279     0.003959   \n",
       "...             ...         ...        ...        ...        ...          ...   \n",
       "112868     0.113854    16.70758   0.000333  -0.005117  -0.003883     0.006432   \n",
       "112869     0.115583    17.40458   0.000546  -0.005432   0.001709     0.005720   \n",
       "112870     0.115346    17.23007   0.000564  -0.005401   0.002346     0.005915   \n",
       "112871     0.114809    19.00031   0.000590  -0.005228   0.003333     0.006228   \n",
       "112872     0.109050    39.80056   0.000076  -0.004976  -0.003112     0.005870   \n",
       "\n",
       "        tor_stress  dist_to_surface  \n",
       "0         38.14661         0.000003  \n",
       "1         46.30497         0.000004  \n",
       "2         50.45366         0.000001  \n",
       "3         45.95542         0.000004  \n",
       "4         40.52113         0.000002  \n",
       "...            ...              ...  \n",
       "112868    29.62181         0.785774  \n",
       "112869    32.17997         0.492978  \n",
       "112870    33.88505         0.995697  \n",
       "112871    35.13647         0.869049  \n",
       "112872    29.58362         0.556905  \n",
       "\n",
       "[112873 rows x 26 columns]"
      ]
     },
     "execution_count": 6,
     "metadata": {},
     "output_type": "execute_result"
    }
   ],
   "source": [
    "fea_data"
   ]
  },
  {
   "cell_type": "code",
   "execution_count": 49,
   "metadata": {},
   "outputs": [],
   "source": [
    "data = pd.read_csv(\"/Users/User/Documents/Project_JEB/JEB_Data/workingdata.csv\")\n",
    "thickness = []\n",
    "for part_id in data['id']:\n",
    "    # Load the VTK volume mesh\n",
    "    vtk_file_path = f\"/Users/User/Documents/Project_JEB/JEB_Data/SimJEB_volmesh_(vtk)/{part_id}.vtk\"  # Update with your actual file path\n",
    "    volume_mesh = pv.read(vtk_file_path)\n",
    "    point_cloud = volume_mesh.points  # Extract point cloud\n",
    "\n",
    "    # Load the surface mesh\n",
    "    obj_file_path = f\"/Users/User/Documents/Project_JEB/JEB_Data/SimJEB_surfmesh_(obj)/{part_id}.obj\"\n",
    "    surface_mesh = trimesh.load_mesh(obj_file_path)\n",
    "    surface_points = surface_mesh.vertices \n",
    "\n",
    "    kdtree = KDTree(surface_points)\n",
    "    distances, _ = kdtree.query(point_cloud)\n",
    "    est_thickness = np.quantile(distances, 0.75)\n",
    "    thickness.append(est_thickness)\n",
    "\n",
    "# Add the curvature column to the DataFrame\n",
    "data['thickness'] = thickness\n",
    "\n",
    "# Save the updated data\n",
    "updated_data_path = '/Users/User/Documents/Project_JEB/JEB_Data/workingdata.csv'\n",
    "data.to_csv(updated_data_path, index=False)"
   ]
  },
  {
   "cell_type": "code",
   "execution_count": 2,
   "metadata": {},
   "outputs": [
    {
     "data": {
      "application/vnd.jupyter.widget-view+json": {
       "model_id": "11d9e5f34d9c4bb99317392d35d5acdb",
       "version_major": 2,
       "version_minor": 0
      },
      "text/plain": [
       "Widget(value='<iframe src=\"http://localhost:65076/index.html?ui=P_0x1092cfb30_0&reconnect=auto\" class=\"pyvista…"
      ]
     },
     "metadata": {},
     "output_type": "display_data"
    }
   ],
   "source": [
    "mesh = pv.read('/Users/User/Documents/Project_JEB/JEB_Data/SimJEB_volmesh_(vtk)/6.vtk')\n",
    "surface = pv.read('/Users/User/Documents/Project_JEB/JEB_Data/SimJEB_surfmesh_(obj)/6.obj')\n",
    "\n",
    "# Visualize the mesh and the plane\n",
    "plotter = pv.Plotter()\n",
    "plotter.add_mesh(mesh, color=\"lightgray\", show_edges=True, label=\"Bracket Mesh\")\n",
    "plotter.add_mesh(surface, color='red', style='wireframe', line_width=2)\n",
    "plotter.add_legend()\n",
    "plotter.show()"
   ]
  },
  {
   "cell_type": "code",
   "execution_count": 3,
   "metadata": {},
   "outputs": [],
   "source": [
    "_ = mesh.compute_implicit_distance(surface, inplace=True)\n",
    "dist = mesh['implicit_distance']\n",
    "#type(dist)"
   ]
  },
  {
   "cell_type": "code",
   "execution_count": 4,
   "metadata": {},
   "outputs": [
    {
     "data": {
      "text/plain": [
       "4.0365863482736264e-08"
      ]
     },
     "execution_count": 4,
     "metadata": {},
     "output_type": "execute_result"
    }
   ],
   "source": [
    "np.quantile(dist, 0.75)"
   ]
  },
  {
   "cell_type": "code",
   "execution_count": 6,
   "metadata": {},
   "outputs": [
    {
     "data": {
      "application/vnd.jupyter.widget-view+json": {
       "model_id": "769c15cd649e41fc80dff8d38ff09e11",
       "version_major": 2,
       "version_minor": 0
      },
      "text/plain": [
       "Widget(value='<iframe src=\"http://localhost:65076/index.html?ui=P_0x2caa92f90_2&reconnect=auto\" class=\"pyvista…"
      ]
     },
     "metadata": {},
     "output_type": "display_data"
    }
   ],
   "source": [
    "pl = pv.Plotter()\n",
    "_ = pl.add_mesh(\n",
    "    mesh, scalars='implicit_distance', cmap='bwr'\n",
    ")\n",
    "#_ = pl.add_mesh(surface, color='w', style='wireframe')\n",
    "pl.show()"
   ]
  },
  {
   "cell_type": "code",
   "execution_count": 15,
   "metadata": {},
   "outputs": [],
   "source": [
    "data = pd.read_csv('/Users/User/Documents/Project_JEB/JEB_Data/workingdata.csv')\n",
    "\n",
    "def calc_thickness(mesh):\n",
    "    _ = mesh.compute_implicit_distance(plane, inplace=True)\n",
    "    dist = mesh['implicit_distance']\n",
    "    est_dist = np.quantile(dist, 0.75)\n",
    "    return est_dist\n",
    "    \n",
    "\n",
    "thickness = []\n",
    "for part_id in data['id']:\n",
    "    path = f\"/Users/User/Documents/Project_JEB/JEB_Data/SimJEB_volmesh_(vtk)/{part_id}.vtk\"\n",
    "    mesh = pv.read(path)\n",
    "    est_thickness = calc_thickness(mesh)\n",
    "    thickness.append(est_thickness)\n",
    "\n",
    "# Add the curvature column to the DataFrame\n",
    "data['thickness'] = thickness\n",
    "\n",
    "# Save the updated data\n",
    "updated_data_path = '/Users/User/Documents/Project_JEB/JEB_Data/workingdata.csv'\n",
    "data.to_csv(updated_data_path, index=False)"
   ]
  },
  {
   "cell_type": "code",
   "execution_count": 24,
   "metadata": {},
   "outputs": [
    {
     "data": {
      "application/vnd.jupyter.widget-view+json": {
       "model_id": "85c519a43452415190c9941d2cf22c66",
       "version_major": 2,
       "version_minor": 0
      },
      "text/plain": [
       "Widget(value='<iframe src=\"http://localhost:62323/index.html?ui=P_0x2a01e4710_13&reconnect=auto\" class=\"pyvist…"
      ]
     },
     "metadata": {},
     "output_type": "display_data"
    }
   ],
   "source": [
    "mesh = pv.read('/Users/User/Documents/Project_JEB/JEB_Data/SimJEB_surfmesh_(obj)/373.obj')\n",
    "\n",
    "mesh.plot()\n",
    "\n",
    "# Compute the minimum Z-coordinate of the mesh\n",
    "x_min, x_max, y_min, y_max, z_min, z_max = mesh.bounds  # The 5th value in bounds is the minimum Z\n",
    "\n",
    "# Compute normals (useful for identifying flat surfaces where holes might be located)\n",
    "mesh.compute_normals(inplace=True)\n",
    "\n",
    "# Extract edges corresponding to boundaries\n",
    "edges = mesh.extract_feature_edges(boundary_edges=True, non_manifold_edges=False)"
   ]
  },
  {
   "cell_type": "code",
   "execution_count": 25,
   "metadata": {},
   "outputs": [
    {
     "name": "stdout",
     "output_type": "stream",
     "text": [
      "Hole centers on z_min plane: []\n"
     ]
    }
   ],
   "source": [
    "holes = []\n",
    "for edge in edges.connectivity().split_bodies():  # Splits connected regions\n",
    "    if edge.area < 0.5:  # Filter based on area or radius of the edge loop\n",
    "        holes.append(edge)\n",
    "\n",
    "# Get the centroids of the identified holes that are on the z_min plane\n",
    "hole_centers = []\n",
    "for hole in holes:\n",
    "    center = hole.center\n",
    "    if np.isclose(center[2], z_min, atol=1e-3):  # Check if Z-coordinate is near z_min\n",
    "        hole_centers.append(center)\n",
    "\n",
    "# Print or plot the hole centers on the z_min plane\n",
    "print(f\"Hole centers on z_min plane: {hole_centers}\")\n"
   ]
  },
  {
   "cell_type": "code",
   "execution_count": 26,
   "metadata": {},
   "outputs": [
    {
     "data": {
      "application/vnd.jupyter.widget-view+json": {
       "model_id": "f5c4ca3aa1f849738b69b74ef94d5e98",
       "version_major": 2,
       "version_minor": 0
      },
      "text/plain": [
       "Widget(value='<iframe src=\"http://localhost:62323/index.html?ui=P_0x2a010bd40_14&reconnect=auto\" class=\"pyvist…"
      ]
     },
     "metadata": {},
     "output_type": "display_data"
    }
   ],
   "source": [
    "plotter = pv.Plotter()\n",
    "plotter.add_mesh(mesh, color=\"lightgrey\")\n",
    "for center in hole_centers:\n",
    "    plotter.add_mesh(pv.Sphere(radius=1.0, center=center), color=\"red\")  # Adjust radius as needed\n",
    "plotter.show()"
   ]
  },
  {
   "cell_type": "code",
   "execution_count": 19,
   "metadata": {},
   "outputs": [],
   "source": [
    "# Define the corner points on the z_min plane\n",
    "corners = [\n",
    "    (x_min, y_min, z_min),\n",
    "    (x_max, y_min, z_min),\n",
    "    (x_min, y_max, z_min),\n",
    "    (x_max, y_max, z_min)\n",
    "]\n",
    "\n",
    "# Find the closest hole center to each corner\n",
    "closest_hole_centers = []\n",
    "for corner in corners:\n",
    "    closest_hole = min(hole_centers, key=lambda center: np.linalg.norm(np.array(center) - np.array(corner)))\n",
    "    closest_hole_centers.append(closest_hole)"
   ]
  },
  {
   "cell_type": "code",
   "execution_count": 20,
   "metadata": {},
   "outputs": [
    {
     "data": {
      "application/vnd.jupyter.widget-view+json": {
       "model_id": "23bea4a55bb34b42a656814094c0fde0",
       "version_major": 2,
       "version_minor": 0
      },
      "text/plain": [
       "Widget(value='<iframe src=\"http://localhost:62323/index.html?ui=P_0x2a00b9f70_10&reconnect=auto\" class=\"pyvist…"
      ]
     },
     "metadata": {},
     "output_type": "display_data"
    }
   ],
   "source": [
    "plotter = pv.Plotter()\n",
    "plotter.add_mesh(mesh, color=\"lightgrey\")\n",
    "for center in hole_centers:\n",
    "    plotter.add_mesh(pv.Sphere(radius=0.5, center=center), color=\"blue\")  # All hole centers in blue\n",
    "for center in closest_hole_centers:\n",
    "    plotter.add_mesh(pv.Sphere(radius=1.0, center=center), color=\"red\")  # Closest centers in red\n",
    "plotter.show()"
   ]
  },
  {
   "cell_type": "code",
   "execution_count": 49,
   "metadata": {},
   "outputs": [
    {
     "name": "stdout",
     "output_type": "stream",
     "text": [
      "IDs where no holes are found: [4, 8, 9, 16, 50, 53, 55, 62, 66, 69, 73, 102, 114, 115, 116, 121, 123, 187, 207, 234, 268, 302, 316, 318, 337, 342, 357, 364, 365, 373, 400, 448, 454, 460, 461, 462, 466, 471, 472, 479, 489, 501, 534, 536, 551, 556, 571, 587, 605, 628, 630]\n",
      "IDs where hole centers do not match the reference: [6, 29, 70, 71, 78, 94, 96, 130, 142, 196, 228, 270, 281, 296, 308, 309, 325, 356, 361, 374, 378, 390, 393, 420, 464, 495, 498, 533, 545, 590, 595, 615, 624, 633]\n",
      "Total no. of unacceptable designs: 85\n"
     ]
    }
   ],
   "source": [
    "import numpy as np\n",
    "import pandas as pd\n",
    "import pyvista as pv\n",
    "\n",
    "def loc_holes(mesh):\n",
    "    z_min = mesh.bounds[4]  \n",
    "    mesh.compute_normals(inplace=True)\n",
    "    edges = mesh.extract_feature_edges(boundary_edges=True, non_manifold_edges=False)\n",
    "    holes = []\n",
    "    for edge in edges.connectivity().split_bodies():  \n",
    "        if edge.area < 0.5:  \n",
    "            holes.append(edge)\n",
    "    return [hole.center for hole in holes if np.isclose(hole.center[2], z_min, atol=1e-3)]\n",
    "\n",
    "def corner_holes(hole_centers, z_min, x_min, x_max, y_min, y_max):\n",
    "    corners = [\n",
    "        (x_min, y_min, z_min),\n",
    "        (x_max, y_min, z_min),\n",
    "        (x_min, y_max, z_min),\n",
    "        (x_max, y_max, z_min)\n",
    "    ]\n",
    "\n",
    "    closest_hole_centers = []\n",
    "    for corner in corners:\n",
    "        closest_hole = min(hole_centers, key=lambda center: np.linalg.norm(np.array(center) - np.array(corner)))\n",
    "        closest_hole_centers.append(closest_hole)\n",
    "    return closest_hole_centers\n",
    "\n",
    "ref_mesh = pv.read('/Users/User/Documents/Project_JEB/JEB_Data/SimJEB_surfmesh_(obj)/0.obj')\n",
    "ref_z_min = ref_mesh.bounds[4] \n",
    "x_min, x_max, y_min, y_max, _, _ = ref_mesh.bounds\n",
    "\n",
    "ref_mesh.compute_normals(inplace=True)\n",
    "ref_edges = ref_mesh.extract_feature_edges(boundary_edges=True, non_manifold_edges=False)\n",
    "ref_holes = []\n",
    "for edge in ref_edges.connectivity().split_bodies(): \n",
    "    if edge.area < 0.5: \n",
    "        ref_holes.append(edge)\n",
    "\n",
    "ref_hole_centers = []\n",
    "for hole in ref_holes:\n",
    "    ref_center = hole.center\n",
    "    if np.isclose(ref_center[2], ref_z_min, atol=1e-3):  \n",
    "        ref_hole_centers.append(ref_center)\n",
    "\n",
    "missing_match_ids = []\n",
    "no_hole_ids = []\n",
    "\n",
    "data = pd.read_csv('/Users/User/Documents/Project_JEB/JEB_Data/workingdata.csv')\n",
    "\n",
    "for part_id in data['id']:\n",
    "    path = f\"/Users/User/Documents/Project_JEB/JEB_Data/SimJEB_surfmesh_(obj)/{part_id}.obj\"\n",
    "    mesh = pv.read(path)\n",
    "\n",
    "    hole_centers = loc_holes(mesh)\n",
    "    if len(hole_centers) == 0:\n",
    "        no_hole_ids.append(part_id)\n",
    "        continue\n",
    "\n",
    "    c_holes = corner_holes(hole_centers, ref_z_min, x_min, x_max, y_min, y_max)\n",
    "\n",
    "    # Check if the x and y coordinates match with tolerance\n",
    "    match_found = True\n",
    "    for ref_hole in ref_hole_centers:\n",
    "        ref_x, ref_y = ref_hole[:2]\n",
    "        if not any(np.isclose(hc[0], ref_x, atol=0.5) and np.isclose(hc[1], ref_y, atol=0.5) for hc in c_holes):\n",
    "            match_found = False\n",
    "            break\n",
    "\n",
    "    if not match_found:\n",
    "        missing_match_ids.append(part_id)\n",
    "\n",
    "# Print results\n",
    "print(\"IDs where no holes are found:\", no_hole_ids)\n",
    "print(\"IDs where hole centers do not match the reference:\", missing_match_ids)\n",
    "print(\"Total no. of unacceptable designs:\", len(no_hole_ids)+len(missing_match_ids))"
   ]
  },
  {
   "cell_type": "code",
   "execution_count": 47,
   "metadata": {},
   "outputs": [
    {
     "data": {
      "application/vnd.jupyter.widget-view+json": {
       "model_id": "9b95165d1210447e81347dec7cf99bf6",
       "version_major": 2,
       "version_minor": 0
      },
      "text/plain": [
       "Widget(value='<iframe src=\"http://localhost:58173/index.html?ui=P_0x3a8ffeba0_33&reconnect=auto\" class=\"pyvist…"
      ]
     },
     "metadata": {},
     "output_type": "display_data"
    }
   ],
   "source": [
    "ref = pv.read('/Users/User/Documents/Project_JEB/JEB_Data/SimJEB_volmesh_(vtk)/0.vtk')\n",
    "plotter = pv.Plotter()\n",
    "mesh = pv.read('/Users/User/Documents/Project_JEB/JEB_Data/SimJEB_volmesh_(vtk)/6.vtk')\n",
    "plotter.add_mesh(ref, color='red', opacity=0.4)\n",
    "plotter.add_mesh(mesh, color='lightblue', opacity=0.5)   \n",
    "plotter.show()"
   ]
  },
  {
   "cell_type": "code",
   "execution_count": 113,
   "metadata": {},
   "outputs": [
    {
     "data": {
      "application/vnd.jupyter.widget-view+json": {
       "model_id": "0a84239e931248e3ba351d739860e03e",
       "version_major": 2,
       "version_minor": 0
      },
      "text/plain": [
       "Widget(value='<iframe src=\"http://localhost:62323/index.html?ui=P_0x3ccbff560_74&reconnect=auto\" class=\"pyvist…"
      ]
     },
     "metadata": {},
     "output_type": "display_data"
    }
   ],
   "source": [
    "mesh = pv.read('/Users/User/Documents/Project_JEB/JEB_Data/SimJEB_surfmesh_(obj)/373.obj')\n",
    "plotter = pv.Plotter()\n",
    "plotter.add_mesh(mesh, color=\"lightblue\", show_edges=True)\n",
    "plotter.show()"
   ]
  },
  {
   "cell_type": "code",
   "execution_count": 31,
   "metadata": {},
   "outputs": [
    {
     "name": "stdout",
     "output_type": "stream",
     "text": [
      "Projected surface area: 26512.691496200943\n"
     ]
    },
    {
     "data": {
      "application/vnd.jupyter.widget-view+json": {
       "model_id": "6184ce5f645d43a192fa5abc5f685f5a",
       "version_major": 2,
       "version_minor": 0
      },
      "text/plain": [
       "Widget(value='<iframe src=\"http://localhost:52154/index.html?ui=P_0x2e26cfb30_16&reconnect=auto\" class=\"pyvist…"
      ]
     },
     "metadata": {},
     "output_type": "display_data"
    }
   ],
   "source": [
    "\n",
    "mesh = pv.read('/Users/User/Documents/Project_JEB/JEB_Data/SimJEB_surfmesh_(obj)/29.obj')\n",
    "bounds = mesh.bounds\n",
    "x_min, x_max, y_min, y_max, z_min, z_max = bounds\n",
    "# Project the sphere onto the XY plane\n",
    "mesh.points[:, 1] = 0  # Project all z-coordinates to 0\n",
    "\n",
    "# Analyze the projected surface\n",
    "print(f\"Projected surface area: {mesh.area}\")\n",
    "\n",
    "# Visualize the projection\n",
    "plotter = pv.Plotter()\n",
    "plotter.add_mesh(mesh, color=\"lightblue\", show_edges=True)\n",
    "plotter.show()"
   ]
  },
  {
   "cell_type": "code",
   "execution_count": 32,
   "metadata": {},
   "outputs": [
    {
     "data": {
      "application/vnd.jupyter.widget-view+json": {
       "model_id": "74125ebd131b4bd7809d0e9428174dd1",
       "version_major": 2,
       "version_minor": 0
      },
      "text/plain": [
       "Widget(value='<iframe src=\"http://localhost:52154/index.html?ui=P_0x2e235a4e0_17&reconnect=auto\" class=\"pyvist…"
      ]
     },
     "metadata": {},
     "output_type": "display_data"
    }
   ],
   "source": [
    "edges = mesh.extract_feature_edges(boundary_edges=True, non_manifold_edges=False)\n",
    "\n",
    "# Extract points forming potential holes\n",
    "holes = []\n",
    "for edge in edges.connectivity().split_bodies():  # Splits connected regions\n",
    "    if edge.area < 0.5:  # Filter based on area or radius of the edge loop\n",
    "        holes.append(edge)\n",
    "\n",
    "# Get the centroids of the identified holes\n",
    "hole_centers = []\n",
    "for hole in holes:\n",
    "    hole_centers.append(hole.center)\n",
    "\n",
    "\n",
    "# Optionally plot the mesh with hole centers\n",
    "plotter = pv.Plotter()\n",
    "plotter.add_mesh(mesh, color=\"lightgrey\")\n",
    "for center in hole_centers:\n",
    "    plotter.add_mesh(pv.Sphere(radius=1.0, center=center), color=\"red\")  # Adjust radius as needed\n",
    "plotter.show()"
   ]
  },
  {
   "cell_type": "code",
   "execution_count": 116,
   "metadata": {},
   "outputs": [],
   "source": [
    "# Define the corner points on the z_min plane\n",
    "corners = [\n",
    "    (x_min, y_min, z_min),\n",
    "    (x_max, y_min, z_min),\n",
    "    (x_min, y_max, z_min),\n",
    "    (x_max, y_max, z_min)\n",
    "]\n",
    "\n",
    "# Find the closest hole center to each corner\n",
    "closest_hole_centers = []\n",
    "for corner in corners:\n",
    "    closest_hole = min(hole_centers, key=lambda center: np.linalg.norm(np.array(center) - np.array(corner)))\n",
    "    closest_hole_centers.append(closest_hole)"
   ]
  },
  {
   "cell_type": "code",
   "execution_count": 118,
   "metadata": {},
   "outputs": [
    {
     "data": {
      "application/vnd.jupyter.widget-view+json": {
       "model_id": "e92dfb84e1964150a6944bb6ef91955c",
       "version_major": 2,
       "version_minor": 0
      },
      "text/plain": [
       "Widget(value='<iframe src=\"http://localhost:62323/index.html?ui=P_0x3ccc5e780_78&reconnect=auto\" class=\"pyvist…"
      ]
     },
     "metadata": {},
     "output_type": "display_data"
    }
   ],
   "source": [
    "plotter = pv.Plotter()\n",
    "plotter.add_mesh(mesh, color=\"lightgrey\")\n",
    "for center in hole_centers:\n",
    "    plotter.add_mesh(pv.Sphere(radius=0.5, center=center), color=\"blue\")  # All hole centers in blue\n",
    "for center in closest_hole_centers:\n",
    "    plotter.add_mesh(pv.Sphere(radius=1.0, center=center), color=\"red\")  # Closest centers in red\n",
    "plotter.show()"
   ]
  },
  {
   "cell_type": "code",
   "execution_count": 14,
   "metadata": {},
   "outputs": [
    {
     "data": {
      "application/vnd.jupyter.widget-view+json": {
       "model_id": "8a458cd86fee48f9a9100df535f2adc2",
       "version_major": 2,
       "version_minor": 0
      },
      "text/plain": [
       "Widget(value='<iframe src=\"http://localhost:52154/index.html?ui=P_0x2e25756a0_10&reconnect=auto\" class=\"pyvist…"
      ]
     },
     "metadata": {},
     "output_type": "display_data"
    }
   ],
   "source": [
    "# Load the mesh\n",
    "mesh = pv.read('/Users/User/Documents/Project_JEB/JEB_Data/SimJEB_surfmesh_(obj)/29.obj')\n",
    "# Project the mesh onto the XY plane\n",
    "mesh.points[:, 2] = 0  # Set all z-coordinates to 0\n",
    "\n",
    "# Extract boundary edges to identify holes\n",
    "edges = mesh.extract_feature_edges(boundary_edges=True, non_manifold_edges=False)\n",
    "\n",
    "# Extract points forming potential holes\n",
    "holes = []\n",
    "for edge in edges.connectivity().split_bodies():\n",
    "    if edge.area < 0.5:  # Filtering holes based on area\n",
    "        holes.append(edge)\n",
    "\n",
    "# Get the centroids of the identified holes\n",
    "hole_centers = np.array([hole.center for hole in holes])\n",
    "\n",
    "# Get mesh bounding box\n",
    "x_min, x_max, y_min, y_max, z_min, z_max = mesh.bounds\n",
    "\n",
    "# Sort hole centers by y-coordinate\n",
    "sorted_holes = hole_centers[np.argsort(hole_centers[:, 1])]\n",
    "\n",
    "# Select two holes closest to y_min and two closest to y_max\n",
    "bottom_holes = sorted_holes[:2]  # Two lowest y-values\n",
    "top_holes = sorted_holes[-2:]  # Two highest y-values\n",
    "\n",
    "# Visualization\n",
    "plotter = pv.Plotter()\n",
    "plotter.add_mesh(mesh, color=\"lightgrey\")\n",
    "\n",
    "# Mark all detected holes in blue\n",
    "for center in hole_centers:\n",
    "    plotter.add_mesh(pv.Sphere(radius=0.5, center=center), color=\"blue\")  \n",
    "\n",
    "# Highlight the two bottom holes near y_min in green\n",
    "for center in bottom_holes:\n",
    "    plotter.add_mesh(pv.Sphere(radius=1.0, center=center), color=\"green\")  \n",
    "\n",
    "# Highlight the two top holes near y_max in yellow\n",
    "for center in top_holes:\n",
    "    plotter.add_mesh(pv.Sphere(radius=1.0, center=center), color=\"yellow\")  \n",
    "\n",
    "plotter.show()"
   ]
  },
  {
   "cell_type": "code",
   "execution_count": 23,
   "metadata": {},
   "outputs": [],
   "source": [
    "def extract_hole_centers(mesh):\n",
    "    # Project mesh onto XY plane\n",
    "    mesh.points[:, 2] = 0  # Set all z-coordinates to 0\n",
    "\n",
    "    # Extract boundary edges to identify holes\n",
    "    edges = mesh.extract_feature_edges(boundary_edges=True, non_manifold_edges=False)\n",
    "\n",
    "    # Extract points forming potential holes\n",
    "    holes = []\n",
    "    for edge in edges.connectivity().split_bodies():\n",
    "        if edge.area < 0.5:  # Filtering holes based on area\n",
    "            holes.append(edge)\n",
    "\n",
    "    # Get the centroids of the identified holes\n",
    "    hole_centers = np.array([hole.center for hole in holes])\n",
    "\n",
    "    return hole_centers\n",
    "\n",
    "# Function to find the two nearest holes to y_min and y_max\n",
    "def get_top_bottom_holes(hole_centers):\n",
    "    sorted_holes = hole_centers[np.argsort(hole_centers[:, 1])]\n",
    "    bottom_holes = sorted_holes[:2]  # Two lowest y-values\n",
    "    top_holes = sorted_holes[-2:]   # Two highest y-values\n",
    "    return bottom_holes, top_holes\n",
    "\n",
    "# Function to check if at least one hole from y_min and y_max matches reference holes\n",
    "def check_hole_match(reference_bottom, reference_top, test_bottom, test_top, tolerance=1.0):\n",
    "    def is_matching(hole, ref_holes):\n",
    "        return any(np.linalg.norm(hole - ref_hole) < tolerance for ref_hole in ref_holes)\n",
    "\n",
    "    match_bottom = any(is_matching(hole, reference_bottom) for hole in test_bottom)\n",
    "    match_top = any(is_matching(hole, reference_top) for hole in test_top)\n",
    "\n",
    "    return match_bottom, match_top\n",
    "\n",
    "# Load reference mesh and compute reference hole centers\n",
    "reference_mesh = pv.read('/Users/User/Documents/Project_JEB/JEB_Data/SimJEB_surfmesh_(obj)/0.obj')\n",
    "reference_hole_centers = extract_hole_centers(reference_mesh)\n",
    "reference_bottom_holes, reference_top_holes = get_top_bottom_holes(reference_hole_centers)\n",
    "\n",
    "# Directory containing other surface meshes\n",
    "mesh_directory = \"/Users/User/Documents/Project_JEB/JEB_Data/SimJEB_surfmesh_(obj)/\"\n",
    "\n",
    "# Process each mesh file\n",
    "results = []\n",
    "data = pd.read_csv('/Users/User/Documents/Project_JEB/JEB_Data/workingdata.csv')\n",
    "for id in data['id']:\n",
    "    if id!=0:\n",
    "        path = f\"/Users/User/Documents/Project_JEB/JEB_Data/SimJEB_surfmesh_(obj)/{id}.obj\"\n",
    "        test_mesh = pv.read(path)\n",
    "        test_hole_centers = extract_hole_centers(test_mesh)\n",
    "        test_bottom_holes, test_top_holes = get_top_bottom_holes(test_hole_centers)\n",
    "\n",
    "        match_bottom, match_top = check_hole_match(reference_bottom_holes, reference_top_holes, test_bottom_holes, test_top_holes)\n",
    "\n",
    "        if match_bottom==False and match_top==False:\n",
    "            results.append(id)"
   ]
  },
  {
   "cell_type": "code",
   "execution_count": 25,
   "metadata": {},
   "outputs": [
    {
     "data": {
      "text/plain": [
       "[22,\n",
       " 30,\n",
       " 33,\n",
       " 34,\n",
       " 35,\n",
       " 50,\n",
       " 71,\n",
       " 73,\n",
       " 79,\n",
       " 96,\n",
       " 102,\n",
       " 108,\n",
       " 112,\n",
       " 120,\n",
       " 121,\n",
       " 124,\n",
       " 130,\n",
       " 141,\n",
       " 181,\n",
       " 194,\n",
       " 196,\n",
       " 204,\n",
       " 257,\n",
       " 269,\n",
       " 270,\n",
       " 275,\n",
       " 281,\n",
       " 306,\n",
       " 308,\n",
       " 309,\n",
       " 337,\n",
       " 345,\n",
       " 356,\n",
       " 364,\n",
       " 365,\n",
       " 369,\n",
       " 375,\n",
       " 378,\n",
       " 394,\n",
       " 395,\n",
       " 400,\n",
       " 418,\n",
       " 419,\n",
       " 427,\n",
       " 428,\n",
       " 441,\n",
       " 461,\n",
       " 462,\n",
       " 464,\n",
       " 498,\n",
       " 501,\n",
       " 515,\n",
       " 517,\n",
       " 519,\n",
       " 520,\n",
       " 534,\n",
       " 547,\n",
       " 549,\n",
       " 551,\n",
       " 552,\n",
       " 553,\n",
       " 554,\n",
       " 559,\n",
       " 561,\n",
       " 562,\n",
       " 566,\n",
       " 571,\n",
       " 595,\n",
       " 624]"
      ]
     },
     "execution_count": 25,
     "metadata": {},
     "output_type": "execute_result"
    }
   ],
   "source": [
    "results"
   ]
  },
  {
   "cell_type": "code",
   "execution_count": 33,
   "metadata": {},
   "outputs": [
    {
     "ename": "TypeError",
     "evalue": "PolyDataFilters.decimate() got an unexpected keyword argument 'reduction'",
     "output_type": "error",
     "traceback": [
      "\u001b[0;31m---------------------------------------------------------------------------\u001b[0m",
      "\u001b[0;31mTypeError\u001b[0m                                 Traceback (most recent call last)",
      "\u001b[1;32m/Users/User/Documents/Project_JEB/Notebooks/Data_Analysis/surface_analysis.ipynb Cell 29\u001b[0m line \u001b[0;36m8\n\u001b[1;32m      <a href='vscode-notebook-cell:/Users/User/Documents/Project_JEB/Notebooks/Data_Analysis/surface_analysis.ipynb#X42sZmlsZQ%3D%3D?line=4'>5</a>\u001b[0m mesh \u001b[39m=\u001b[39m pv\u001b[39m.\u001b[39mread(\u001b[39m'\u001b[39m\u001b[39m/Users/User/Documents/Project_JEB/JEB_Data/SimJEB_surfmesh_(obj)/29.obj\u001b[39m\u001b[39m'\u001b[39m)\n\u001b[1;32m      <a href='vscode-notebook-cell:/Users/User/Documents/Project_JEB/Notebooks/Data_Analysis/surface_analysis.ipynb#X42sZmlsZQ%3D%3D?line=6'>7</a>\u001b[0m \u001b[39m# Clean and decimate the mesh\u001b[39;00m\n\u001b[0;32m----> <a href='vscode-notebook-cell:/Users/User/Documents/Project_JEB/Notebooks/Data_Analysis/surface_analysis.ipynb#X42sZmlsZQ%3D%3D?line=7'>8</a>\u001b[0m mesh \u001b[39m=\u001b[39m mesh\u001b[39m.\u001b[39;49mclean()\u001b[39m.\u001b[39;49mdecimate(reduction\u001b[39m=\u001b[39;49m\u001b[39m0.5\u001b[39;49m)\n\u001b[1;32m     <a href='vscode-notebook-cell:/Users/User/Documents/Project_JEB/Notebooks/Data_Analysis/surface_analysis.ipynb#X42sZmlsZQ%3D%3D?line=9'>10</a>\u001b[0m \u001b[39m# Compute curvature\u001b[39;00m\n\u001b[1;32m     <a href='vscode-notebook-cell:/Users/User/Documents/Project_JEB/Notebooks/Data_Analysis/surface_analysis.ipynb#X42sZmlsZQ%3D%3D?line=10'>11</a>\u001b[0m mesh[\u001b[39m\"\u001b[39m\u001b[39mcurvature\u001b[39m\u001b[39m\"\u001b[39m] \u001b[39m=\u001b[39m mesh\u001b[39m.\u001b[39mcurvature()\n",
      "\u001b[0;31mTypeError\u001b[0m: PolyDataFilters.decimate() got an unexpected keyword argument 'reduction'"
     ]
    },
    {
     "ename": "",
     "evalue": "",
     "output_type": "error",
     "traceback": [
      "\u001b[1;31mThe Kernel crashed while executing code in the the current cell or a previous cell. Please review the code in the cell(s) to identify a possible cause of the failure. Click <a href='https://aka.ms/vscodeJupyterKernelCrash'>here</a> for more info. View Jupyter <a href='command:jupyter.viewOutput'>log</a> for further details."
     ]
    }
   ],
   "source": [
    "import pyvista as pv\n",
    "import numpy as np\n",
    "\n",
    "# Load the mesh\n",
    "mesh = pv.read('/Users/User/Documents/Project_JEB/JEB_Data/SimJEB_surfmesh_(obj)/29.obj')\n",
    "\n",
    "# Clean and decimate the mesh\n",
    "mesh = mesh.clean().decimate(reduction=0.5)\n",
    "\n",
    "# Compute curvature\n",
    "mesh[\"curvature\"] = mesh.curvature()\n",
    "\n",
    "# Threshold to isolate high-curvature regions (hole edges)\n",
    "high_curvature = mesh.threshold(value=0.1, scalars=\"curvature\")\n",
    "\n",
    "# Extract connected regions (clusters)\n",
    "clusters = high_curvature.connectivity(largest=False)\n",
    "\n",
    "# Compute centroids of each cluster (hole centers)\n",
    "region_ids = np.unique(clusters[\"RegionId\"])\n",
    "hole_centers = []\n",
    "for region_id in region_ids:\n",
    "    region = clusters.threshold(value=region_id, scalars=\"RegionId\")\n",
    "    centroid = region.center\n",
    "    hole_centers.append(centroid)\n",
    "    print(f\"Hole {region_id} center: {centroid}\")\n",
    "\n",
    "# Convert to a numpy array\n",
    "hole_centers = np.array(hole_centers)\n",
    "\n",
    "# Visualize mesh and hole centers\n",
    "centers = pv.PolyData(hole_centers)\n",
    "plotter = pv.Plotter()\n",
    "plotter.add_mesh(mesh, color=\"white\", opacity=0.5)\n",
    "plotter.add_mesh(centers, color=\"red\", point_size=10)\n",
    "plotter.show()\n",
    "\n",
    "# Save hole centers to a file\n",
    "#np.savetxt(\"hole_centers.txt\", hole_centers, delimiter=\",\")"
   ]
  }
 ],
 "metadata": {
  "kernelspec": {
   "display_name": ".venv",
   "language": "python",
   "name": "python3"
  },
  "language_info": {
   "codemirror_mode": {
    "name": "ipython",
    "version": 3
   },
   "file_extension": ".py",
   "mimetype": "text/x-python",
   "name": "python",
   "nbconvert_exporter": "python",
   "pygments_lexer": "ipython3",
   "version": "3.12.4"
  }
 },
 "nbformat": 4,
 "nbformat_minor": 2
}
