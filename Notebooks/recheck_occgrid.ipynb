{
 "cells": [
  {
   "cell_type": "code",
   "execution_count": 3,
   "metadata": {},
   "outputs": [],
   "source": [
    "import pyvista as pv\n",
    "\n",
    "# Load the unstructured mesh\n",
    "mesh = pv.read(\"/Users/User/Documents/Project_JEB/JEB_Data/SimJEB_volmesh_(vtk)/0.vtk\")\n"
   ]
  },
  {
   "cell_type": "code",
   "execution_count": 4,
   "metadata": {},
   "outputs": [],
   "source": [
    "import numpy as np\n",
    "\n",
    "# Define the bounding box of the mesh\n",
    "bounds = mesh.bounds  # (xmin, xmax, ymin, ymax, zmin, zmax)\n",
    "\n",
    "# Define resolution (number of voxels along each axis)\n",
    "nx, ny, nz = 50, 50, 50  # Adjust based on your requirement\n",
    "\n",
    "# Compute voxel sizes\n",
    "dx = (bounds[1] - bounds[0]) / nx\n",
    "dy = (bounds[3] - bounds[2]) / ny\n",
    "dz = (bounds[5] - bounds[4]) / nz\n",
    "\n",
    "# Create voxel grid centers\n",
    "x = np.linspace(bounds[0] + dx/2, bounds[1] - dx/2, nx)\n",
    "y = np.linspace(bounds[2] + dy/2, bounds[3] - dy/2, ny)\n",
    "z = np.linspace(bounds[4] + dz/2, bounds[5] - dz/2, nz)\n",
    "\n",
    "# Create a 3D grid of voxel centers\n",
    "X, Y, Z = np.meshgrid(x, y, z, indexing=\"ij\")\n",
    "grid_points = np.vstack([X.ravel(), Y.ravel(), Z.ravel()]).T"
   ]
  },
  {
   "cell_type": "code",
   "execution_count": 5,
   "metadata": {},
   "outputs": [
    {
     "ename": "KeyboardInterrupt",
     "evalue": "",
     "output_type": "error",
     "traceback": [
      "\u001b[0;31m---------------------------------------------------------------------------\u001b[0m",
      "\u001b[0;31mKeyboardInterrupt\u001b[0m                         Traceback (most recent call last)",
      "\u001b[1;32m/Users/User/Documents/Project_JEB/Notebooks/recheck_occgrid.ipynb Cell 3\u001b[0m line \u001b[0;36m6\n\u001b[1;32m      <a href='vscode-notebook-cell:/Users/User/Documents/Project_JEB/Notebooks/recheck_occgrid.ipynb#W4sZmlsZQ%3D%3D?line=3'>4</a>\u001b[0m \u001b[39m# Check which voxels are inside the mesh\u001b[39;00m\n\u001b[1;32m      <a href='vscode-notebook-cell:/Users/User/Documents/Project_JEB/Notebooks/recheck_occgrid.ipynb#W4sZmlsZQ%3D%3D?line=4'>5</a>\u001b[0m \u001b[39mfor\u001b[39;00m i, point \u001b[39min\u001b[39;00m \u001b[39menumerate\u001b[39m(grid_points):\n\u001b[0;32m----> <a href='vscode-notebook-cell:/Users/User/Documents/Project_JEB/Notebooks/recheck_occgrid.ipynb#W4sZmlsZQ%3D%3D?line=5'>6</a>\u001b[0m     cell_id \u001b[39m=\u001b[39m mesh\u001b[39m.\u001b[39;49mfind_containing_cell(point)\n\u001b[1;32m      <a href='vscode-notebook-cell:/Users/User/Documents/Project_JEB/Notebooks/recheck_occgrid.ipynb#W4sZmlsZQ%3D%3D?line=6'>7</a>\u001b[0m     \u001b[39mif\u001b[39;00m cell_id \u001b[39m>\u001b[39m\u001b[39m=\u001b[39m \u001b[39m0\u001b[39m:  \u001b[39m# If the point is inside the mesh\u001b[39;00m\n\u001b[1;32m      <a href='vscode-notebook-cell:/Users/User/Documents/Project_JEB/Notebooks/recheck_occgrid.ipynb#W4sZmlsZQ%3D%3D?line=7'>8</a>\u001b[0m         ix, iy, iz \u001b[39m=\u001b[39m np\u001b[39m.\u001b[39munravel_index(i, (nx, ny, nz))\n",
      "File \u001b[0;32m~/Documents/Project_JEB/.venv/lib/python3.12/site-packages/pyvista/core/dataset.py:2571\u001b[0m, in \u001b[0;36mDataSet.find_containing_cell\u001b[0;34m(self, point)\u001b[0m\n\u001b[1;32m   2569\u001b[0m locator \u001b[39m=\u001b[39m _vtk\u001b[39m.\u001b[39mvtkCellLocator()\n\u001b[1;32m   2570\u001b[0m locator\u001b[39m.\u001b[39mSetDataSet(\u001b[39mself\u001b[39m)\n\u001b[0;32m-> 2571\u001b[0m locator\u001b[39m.\u001b[39;49mBuildLocator()\n\u001b[1;32m   2573\u001b[0m containing_cells \u001b[39m=\u001b[39m [locator\u001b[39m.\u001b[39mFindCell(node) \u001b[39mfor\u001b[39;00m node \u001b[39min\u001b[39;00m point]\n\u001b[1;32m   2574\u001b[0m \u001b[39mreturn\u001b[39;00m containing_cells[\u001b[39m0\u001b[39m] \u001b[39mif\u001b[39;00m singular \u001b[39melse\u001b[39;00m np\u001b[39m.\u001b[39marray(containing_cells)\n",
      "\u001b[0;31mKeyboardInterrupt\u001b[0m: "
     ]
    }
   ],
   "source": [
    "# Initialize occupancy grid (1 = occupied, 0 = free space)\n",
    "occupancy_grid = np.zeros((nx, ny, nz), dtype=np.uint8)\n",
    "\n",
    "# Check which voxels are inside the mesh\n",
    "for i, point in enumerate(grid_points):\n",
    "    cell_id = mesh.find_containing_cell(point)\n",
    "    if cell_id >= 0:  # If the point is inside the mesh\n",
    "        ix, iy, iz = np.unravel_index(i, (nx, ny, nz))\n",
    "        occupancy_grid[ix, iy, iz] = 1\n"
   ]
  }
 ],
 "metadata": {
  "kernelspec": {
   "display_name": ".venv",
   "language": "python",
   "name": "python3"
  },
  "language_info": {
   "codemirror_mode": {
    "name": "ipython",
    "version": 3
   },
   "file_extension": ".py",
   "mimetype": "text/x-python",
   "name": "python",
   "nbconvert_exporter": "python",
   "pygments_lexer": "ipython3",
   "version": "3.12.4"
  }
 },
 "nbformat": 4,
 "nbformat_minor": 2
}
