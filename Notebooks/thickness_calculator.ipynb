{
 "cells": [
  {
   "cell_type": "markdown",
   "metadata": {},
   "source": [
    "Choose the correct environment with all the dependencies install"
   ]
  },
  {
   "cell_type": "code",
   "execution_count": 2,
   "metadata": {},
   "outputs": [],
   "source": [
    "#import all dependencies\n",
    "import tensorflow as tf\n",
    "import numpy as np\n",
    "import matplotlib.pyplot as plt \n",
    "import seaborn as sns \n",
    "import pyvista as pv \n",
    "import pandas as pd\n",
    "import trimesh\n",
    "from scipy.spatial import KDTree\n",
    "import os"
   ]
  },
  {
   "cell_type": "markdown",
   "metadata": {},
   "source": [
    "Thickness calculation and visualization of a single design"
   ]
  },
  {
   "cell_type": "code",
   "execution_count": 6,
   "metadata": {},
   "outputs": [
    {
     "name": "stdout",
     "output_type": "stream",
     "text": [
      "Median Thickness: 1.3150820182391025\n"
     ]
    },
    {
     "data": {
      "application/vnd.jupyter.widget-view+json": {
       "model_id": "53748249fe92477c9420acecf55d0ebe",
       "version_major": 2,
       "version_minor": 0
      },
      "text/plain": [
       "Widget(value='<iframe src=\"http://localhost:55908/index.html?ui=P_0x2a15339b0_3&reconnect=auto\" class=\"pyvista…"
      ]
     },
     "metadata": {},
     "output_type": "display_data"
    }
   ],
   "source": [
    "# Load the volume mesh file\n",
    "vtk_file_path = \"/Users/User/Documents/Project_JEB/JEB_Data/SimJEB_volmesh_(vtk)/9.vtk\" \n",
    "volume_mesh = pv.read(vtk_file_path)\n",
    "\n",
    "\n",
    "# Load the surface mesh file\n",
    "obj_file_path = \"/Users/User/Documents/Project_JEB/JEB_Data/SimJEB_surfmesh_(obj)/9.obj\"\n",
    "surface_mesh = trimesh.load_mesh(obj_file_path)\n",
    "\n",
    "\n",
    "def calculate_thickness(volume_mesh, surface_mesh):\n",
    "    # Extract point cloud\n",
    "    point_cloud = volume_mesh.points  \n",
    "    # Extract surface points\n",
    "    surface_points = surface_mesh.vertices \n",
    "    # Compute nearest distance using KDTree\n",
    "    kdtree = KDTree(surface_points)\n",
    "    distances, _ = kdtree.query(point_cloud)\n",
    "    thickness = np.quantile(distances, 0.75)\n",
    "    return thickness, distances\n",
    "\n",
    "thickness, distances = calculate_thickness(volume_mesh, surface_mesh)\n",
    "# Assign distances as scalar values\n",
    "volume_mesh[\"Distance\"] = distances  \n",
    "#make a planar cut on the mesh along the x-axis to view a crosssection \n",
    "volume_mesh = volume_mesh.clip('x', invert=True)\n",
    "#Display the estimated thickness\n",
    "print(\"Median Thickness:\", thickness)\n",
    "# Plot the point cloud with distances\n",
    "plotter = pv.Plotter()\n",
    "plotter.add_mesh(volume_mesh, scalars=\"Distance\", cmap=\"jet\", point_size=3, render_points_as_spheres=True)\n",
    "#plotter.add_mesh(pv.PolyData(surface_points), color=\"white\", point_size=3, render_points_as_spheres=True, opacity=0)\n",
    "#plotter.add_scalar_bar(title=\"Distance to Surface\")\n",
    "plotter.show()"
   ]
  },
  {
   "cell_type": "markdown",
   "metadata": {},
   "source": [
    "Automate the process to calculate the thickness for all designs and store them in a dataframe as a column in the original metadata"
   ]
  },
  {
   "cell_type": "code",
   "execution_count": 7,
   "metadata": {},
   "outputs": [],
   "source": [
    "#load metadata\n",
    "data = pd.read_csv(\"/Users/User/Documents/Project_JEB/JEB_Data/workingdata.csv\")\n",
    "thickness = []\n",
    "#extract 'id' from the metadata set and access the corresponding volume and surface meshes\n",
    "for part_id in data['id']:\n",
    "    # Load the VTK volume mesh\n",
    "    vtk_file_path = f\"/Users/User/Documents/Project_JEB/JEB_Data/SimJEB_volmesh_(vtk)/{part_id}.vtk\"  # Update with your actual file path\n",
    "    volume_mesh = pv.read(vtk_file_path)\n",
    "\n",
    "\n",
    "    # Load the surface mesh\n",
    "    obj_file_path = f\"/Users/User/Documents/Project_JEB/JEB_Data/SimJEB_surfmesh_(obj)/{part_id}.obj\"\n",
    "    surface_mesh = trimesh.load_mesh(obj_file_path)\n",
    "    \n",
    "    #calculate stiffness\n",
    "    est_thickness, distances = calculate_thickness(volume_mesh, surface_mesh)\n",
    "    thickness.append(est_thickness)\n",
    "\n",
    "# Add the curvature column to the DataFrame\n",
    "data['thickness'] = thickness\n",
    "\n",
    "# Save the updated data\n",
    "updated_data_path = '/Users/User/Documents/Project_JEB/JEB_Data/workingdata.csv'\n",
    "data.to_csv(updated_data_path, index=False)"
   ]
  }
 ],
 "metadata": {
  "kernelspec": {
   "display_name": ".venv",
   "language": "python",
   "name": "python3"
  },
  "language_info": {
   "codemirror_mode": {
    "name": "ipython",
    "version": 3
   },
   "file_extension": ".py",
   "mimetype": "text/x-python",
   "name": "python",
   "nbconvert_exporter": "python",
   "pygments_lexer": "ipython3",
   "version": "3.12.4"
  }
 },
 "nbformat": 4,
 "nbformat_minor": 2
}
