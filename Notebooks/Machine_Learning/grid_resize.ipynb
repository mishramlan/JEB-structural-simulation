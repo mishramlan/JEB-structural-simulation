{
 "cells": [
  {
   "cell_type": "code",
   "execution_count": 1,
   "metadata": {},
   "outputs": [],
   "source": [
    "import torch.nn.functional as F\n",
    "import torch\n",
    "import os\n",
    "import numpy as np\n",
    "import pandas as pd"
   ]
  },
  {
   "cell_type": "code",
   "execution_count": null,
   "metadata": {},
   "outputs": [],
   "source": [
    "def pad_or_crop(grid, target_shape=(150, 150, 150)):\n",
    "    \"\"\"Pads or crops a 3D occupancy grid to match target shape.\"\"\"\n",
    "    grid_tensor = torch.tensor(grid, dtype=torch.float32)\n",
    "    current_shape = grid_tensor.shape\n",
    "\n",
    "    # Pad if smaller\n",
    "    pad_sizes = [(max(0, t - c) // 2, max(0, t - c) - max(0, t - c) // 2) for t, c in zip(target_shape, current_shape)]\n",
    "    grid_tensor = F.pad(grid_tensor, [pad_sizes[2][0], pad_sizes[2][1],  # Z-axis\n",
    "                                      pad_sizes[1][0], pad_sizes[1][1],  # Y-axis\n",
    "                                      pad_sizes[0][0], pad_sizes[0][1]]) # X-axis\n",
    "\n",
    "    # Crop if larger\n",
    "    if grid_tensor.shape[0] > target_shape[0]:\n",
    "        start_x = (grid_tensor.shape[0] - target_shape[0]) // 2\n",
    "        grid_tensor = grid_tensor[start_x:start_x+target_shape[0], :, :]\n",
    "    if grid_tensor.shape[1] > target_shape[1]:\n",
    "        start_y = (grid_tensor.shape[1] - target_shape[1]) // 2\n",
    "        grid_tensor = grid_tensor[:, start_y:start_y+target_shape[1], :]\n",
    "    if grid_tensor.shape[2] > target_shape[2]:\n",
    "        start_z = (grid_tensor.shape[2] - target_shape[2]) // 2\n",
    "        grid_tensor = grid_tensor[:, :, start_z:start_z+target_shape[2]]\n",
    "\n",
    "    return grid_tensor.numpy()"
   ]
  },
  {
   "cell_type": "code",
   "execution_count": null,
   "metadata": {},
   "outputs": [],
   "source": [
    "input_folder = \"/Users/User/Documents/Project_JEB/JEB_Data/SimJEB_Occupancy_Grids/\"  # Folder containing original .npy files\n",
    "output_folder = \"/Users/User/Documents/Project_JEB/JEB_Data/processed_grids/\"\n",
    "\n",
    "# Ensure output folder exists\n",
    "os.makedirs(output_folder, exist_ok=True)\n",
    "\n",
    "# Process all .npy files\n",
    "for filename in os.listdir(input_folder):\n",
    "    if filename.endswith(\".npy\"):\n",
    "        grid = np.load(os.path.join(input_folder, filename))\n",
    "        resized_grid = pad_or_crop(grid, target_shape=(150, 150, 150))  # Change method if needed\n",
    "        np.save(os.path.join(output_folder, filename), resized_grid)\n",
    "\n",
    "print(\"All occupancy grids have been standardized!\")"
   ]
  },
  {
   "cell_type": "code",
   "execution_count": null,
   "metadata": {},
   "outputs": [],
   "source": [
    "df = pd.read_csv(\"/Users/User/Documents/Project_JEB/JEB_Data/cleaned_workingdata.csv\")\n",
    "# Path to occupancy grid files\n",
    "grid_folder = \"/Users/User/Documents/Project_JEB/JEB_Data/processed_grids/\"\n",
    "grid_files = sorted([f for f in os.listdir(grid_folder) if f.endswith(\".npy\")])\n",
    "\n",
    "# Match files to dataset IDs\n",
    "df[\"file_name\"] = df[\"id\"].astype(str) + \".npy\"\n",
    "\n",
    "# Verify matching\n",
    "print(df[[\"id\", \"file_name\", \"max_stress\"]].head())\n",
    "print(f\"Number of grid files: {len(grid_files)}, Dataset samples: {len(df)}\")"
   ]
  }
 ],
 "metadata": {
  "kernelspec": {
   "display_name": ".venv",
   "language": "python",
   "name": "python3"
  },
  "language_info": {
   "codemirror_mode": {
    "name": "ipython",
    "version": 3
   },
   "file_extension": ".py",
   "mimetype": "text/x-python",
   "name": "python",
   "nbconvert_exporter": "python",
   "pygments_lexer": "ipython3",
   "version": "3.12.4"
  }
 },
 "nbformat": 4,
 "nbformat_minor": 2
}
