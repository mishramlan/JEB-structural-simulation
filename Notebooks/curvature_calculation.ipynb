{
 "cells": [
  {
   "cell_type": "markdown",
   "metadata": {},
   "source": [
    "Choose the correct environment with all the dependencies install"
   ]
  },
  {
   "cell_type": "code",
   "execution_count": 1,
   "metadata": {},
   "outputs": [],
   "source": [
    "#import all dependencies\n",
    "import tensorflow as tf\n",
    "import numpy as np\n",
    "import matplotlib.pyplot as plt \n",
    "import seaborn as sns \n",
    "import pyvista as pv \n",
    "import pandas as pd\n",
    "import trimesh\n",
    "from scipy.spatial import KDTree\n",
    "import os"
   ]
  },
  {
   "cell_type": "code",
   "execution_count": null,
   "metadata": {},
   "outputs": [],
   "source": [
    "#Load the metadata\n",
    "data = pd.read_csv('/Users/User/Documents/Project_JEB/JEB_Data/workingdata.csv')\n",
    "curvature_values = []\n",
    "#extract 'id' from the metadata set and access the corresponding volume and surface meshes\n",
    "for part_id in data['id']:\n",
    "    #Load the surface nesh\n",
    "    surface_path = f\"/Users/User/Documents/Project_JEB/JEB_Data/SimJEB_surfmesh_(obj)/{part_id}.obj\"\n",
    "    surface = pv.read(surface_path)\n",
    "    curvature = np.quantile(np.abs(surface.curvature(curv_type='mean')), 0.75)\n",
    "    curvature_values.append(curvature)\n",
    "\n",
    "# Add the curvature column to the DataFrame\n",
    "data['curvature'] = curvature_values\n",
    "#data = data.drop(columns='mean_curvature')\n",
    "\n",
    "# Save the updated data\n",
    "updated_data_path = '/Users/User/Documents/Project_JEB/JEB_Data/workingdata.csv'\n",
    "data.to_csv(updated_data_path, index=False)"
   ]
  }
 ],
 "metadata": {
  "kernelspec": {
   "display_name": ".venv",
   "language": "python",
   "name": "python3"
  },
  "language_info": {
   "codemirror_mode": {
    "name": "ipython",
    "version": 3
   },
   "file_extension": ".py",
   "mimetype": "text/x-python",
   "name": "python",
   "nbconvert_exporter": "python",
   "pygments_lexer": "ipython3",
   "version": "3.12.4"
  }
 },
 "nbformat": 4,
 "nbformat_minor": 2
}
