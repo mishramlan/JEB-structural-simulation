{
 "cells": [
  {
   "cell_type": "code",
   "execution_count": 1,
   "metadata": {},
   "outputs": [],
   "source": [
    "import tensorflow as tf\n",
    "import numpy as np\n",
    "import matplotlib.pyplot as plt \n",
    "import seaborn as sns \n",
    "import pyvista as pv \n",
    "import pandas as pd\n",
    "import os"
   ]
  },
  {
   "cell_type": "code",
   "execution_count": 40,
   "metadata": {},
   "outputs": [
    {
     "data": {
      "application/vnd.jupyter.widget-view+json": {
       "model_id": "8f8cf6c0a2cc4779ae88245b1885efa2",
       "version_major": 2,
       "version_minor": 0
      },
      "text/plain": [
       "Widget(value='<iframe src=\"http://localhost:58817/index.html?ui=P_0x2f67f29f0_29&reconnect=auto\" class=\"pyvist…"
      ]
     },
     "metadata": {},
     "output_type": "display_data"
    }
   ],
   "source": [
    "\n",
    "import random\n",
    "\n",
    "# Directory containing the .vtk files\n",
    "vtk_directory = \"/Users/User/Documents/Project_JEB/JEB_Data/SimJEB_volmesh_(vtk)/\"\n",
    "\n",
    "# Initialize PyVista plotter\n",
    "plotter = pv.Plotter()\n",
    "random.seed(0)\n",
    "# Loop through the files in the directory\n",
    "for filename in os.listdir(vtk_directory):\n",
    "    if filename.endswith(\".vtk\"):\n",
    "        # Extract the part_id from the filename\n",
    "        part_id = int(filename.split('.')[0])  # Adjust this logic to your filename pattern\n",
    "        \n",
    "        # Check if part_id is less than 10\n",
    "        if part_id > 100 and part_id < 150:\n",
    "            # Load the VTK file\n",
    "            filepath = os.path.join(vtk_directory, filename)\n",
    "            mesh = pv.read(filepath)\n",
    "            \n",
    "            #color = (random.random(), random.random(), random.random())\n",
    "            # Add the mesh to the plotter\n",
    "            plotter.add_mesh(mesh, opacity=0.5)\n",
    "            \n",
    "\n",
    "# Show the plot\n",
    "#mesh2 = pv.read(\"/Users/User/Documents/Project_JEB/JEB_Data/SimJEB_volmesh_(vtk)/71.vtk\")\n",
    "#plotter.add_mesh(mesh2, color='red')\n",
    "plotter.show()\n"
   ]
  },
  {
   "cell_type": "code",
   "execution_count": 44,
   "metadata": {},
   "outputs": [
    {
     "data": {
      "application/vnd.jupyter.widget-view+json": {
       "model_id": "04aa00b24f284575bd14ce1684cf16f8",
       "version_major": 2,
       "version_minor": 0
      },
      "text/plain": [
       "Widget(value='<iframe src=\"http://localhost:58817/index.html?ui=P_0x2f67f9d60_33&reconnect=auto\" class=\"pyvist…"
      ]
     },
     "metadata": {},
     "output_type": "display_data"
    }
   ],
   "source": [
    "\n",
    "\n",
    "# Load the .vtk file\n",
    "file_path = '/Users/User/Documents/Project_JEB/JEB_Data/SimJEB_volmesh_(vtk)/0.vtk'\n",
    "mesh = pv.read(file_path)\n",
    "mesh2 = pv.read('/Users/User/Documents/Project_JEB/JEB_Data/SimJEB_volmesh_(vtk)/4.vtk')\n",
    "# Get the bounding box of the mesh\n",
    "bounds = mesh.bounds\n",
    "x_min, x_max, y_min, y_max, z_min, z_max = bounds\n",
    "\n",
    "# Create bounding planes\n",
    "bounding_planes = [\n",
    "    pv.Plane(center=((x_min-1), ((y_min-1) + (y_max+1)) / 2, ((z_min-1) + (z_max+1)) / 2), i_size=(y_max+1) - (y_min-1), j_size=(z_max+1) - (z_min-1), direction=(1, 0, 0)),  # X-min plane\n",
    "    pv.Plane(center=((x_max+1), ((y_min-1) + (y_max+1)) / 2, ((z_min-1) + (z_max+1)) / 2), i_size=(y_max+1) - (y_min-1), j_size=(z_max+1) - (z_min-1), direction=(-1, 0, 0)),  # X-max plane\n",
    "    pv.Plane(center=(((x_min-1) + (x_max+1)) / 2, (y_min-1), ((z_min-1) + (z_max+1)) / 2), i_size=(x_max+1) - (x_min-1), j_size=(z_max+1) - (z_min-1), direction=(0, 1, 0)),  # Y-min plane\n",
    "    pv.Plane(center=(((x_min-1) + (x_max+1)) / 2, (y_max+1), ((z_min-1) + (z_max+1)) / 2), i_size=(x_max+1) - (x_min-1), j_size=(z_max+1) - (z_min-1), direction=(0, -1, 0)),  # Y-max plane\n",
    "    pv.Plane(center=(((x_min-1) + (x_max+1)) / 2, ((y_min-1) + (y_max+1)) / 2, (z_min-1)), i_size=(x_max+1) - (x_min-1), j_size=(y_max+1) - (y_min-1), direction=(0, 0, 1)),  # Z-min plane\n",
    "    pv.Plane(center=(((x_min-1) + (x_max+1)) / 2, ((y_min-1) + (y_max+1)) / 2, (x_max+1)), i_size=(x_max+1) - (x_min-1), j_size=(y_max+1) - (y_min-1), direction=(0, 0, -1)),  # Z-max plane\n",
    "]\n",
    "\n",
    "# Plot the mesh with bounding planes\n",
    "plotter = pv.Plotter()\n",
    "plotter.add_mesh(mesh, color='lightblue', opacity=0.6)\n",
    "plotter.add_mesh(mesh2, color='red', opacity=0.6)\n",
    "for plane in bounding_planes:\n",
    "    plotter.add_mesh(plane, color='red', style='wireframe', line_width=2)\n",
    "plotter.show()\n"
   ]
  },
  {
   "cell_type": "code",
   "execution_count": 2,
   "metadata": {},
   "outputs": [
    {
     "name": "stdout",
     "output_type": "stream",
     "text": [
      "(-39.1626, 67.33007, -163.357, 16.81476, -0.0007957, 62.5031)\n"
     ]
    }
   ],
   "source": [
    "# Load the .vtk file\n",
    "file_path = '/Users/User/Documents/Project_JEB/JEB_Data/SimJEB_volmesh_(vtk)/0.vtk'\n",
    "mesh = pv.read(file_path)\n",
    "# Get the bounding box of the mesh\n",
    "bounds = mesh.bounds\n",
    "x_min, x_max, y_min, y_max, z_min, z_max = bounds\n",
    "print(bounds)"
   ]
  },
  {
   "cell_type": "code",
   "execution_count": 5,
   "metadata": {},
   "outputs": [
    {
     "name": "stdout",
     "output_type": "stream",
     "text": [
      "169.vtk: Out of bounds\n",
      "196.vtk: Out of bounds\n",
      "357.vtk: Out of bounds\n",
      "223.vtk: Out of bounds\n",
      "356.vtk: Out of bounds\n",
      "197.vtk: Out of bounds\n",
      "69.vtk: Out of bounds\n",
      "96.vtk: Out of bounds\n",
      "94.vtk: Out of bounds\n",
      "383.vtk: Out of bounds\n",
      "382.vtk: Out of bounds\n",
      "386.vtk: Out of bounds\n",
      "387.vtk: Out of bounds\n",
      "393.vtk: Out of bounds\n",
      "92.vtk: Out of bounds\n",
      "87.vtk: Out of bounds\n",
      "123.vtk: Out of bounds\n",
      "518.vtk: Out of bounds\n",
      "493.vtk: Out of bounds\n",
      "291.vtk: Out of bounds\n",
      "293.vtk: Out of bounds\n",
      "261.vtk: Out of bounds\n",
      "114.vtk: Out of bounds\n",
      "302.vtk: Out of bounds\n",
      "262.vtk: Out of bounds\n",
      "106.vtk: Out of bounds\n",
      "271.vtk: Out of bounds\n",
      "413.vtk: Out of bounds\n",
      "407.vtk: Out of bounds\n",
      "228.vtk: Out of bounds\n",
      "374.vtk: Out of bounds\n",
      "412.vtk: Out of bounds\n",
      "614.vtk: Out of bounds\n",
      "204.vtk: Out of bounds\n",
      "205.vtk: Out of bounds\n",
      "601.vtk: Out of bounds\n",
      "167.vtk: Out of bounds\n",
      "165.vtk: Out of bounds\n",
      "373.vtk: Out of bounds\n",
      "366.vtk: Out of bounds\n"
     ]
    }
   ],
   "source": [
    "\n",
    "reference_bounds = {\n",
    "    \"x_min\": x_min - 1,  # Buffer of 1\n",
    "    \"x_max\": x_max + 1,  # Replace 10 with the actual max value of the reference bounds\n",
    "    \"y_min\": y_min - 1,\n",
    "    \"y_max\": y_max + 1,\n",
    "    \"z_min\": z_min - 1,\n",
    "    \"z_max\": z_max + 1,\n",
    "}\n",
    "\n",
    "def check_bounds_within_reference(file_path, reference_bounds):\n",
    "    # Load the mesh\n",
    "    mesh = pv.read(file_path)\n",
    "    \n",
    "    # Get the bounds of the mesh\n",
    "    x_min, x_max, y_min, y_max, z_min, z_max = mesh.bounds\n",
    "\n",
    "    # Check if the mesh bounds lie within the reference bounds\n",
    "    within_bounds = (\n",
    "        reference_bounds[\"x_min\"] <= x_min <= reference_bounds[\"x_max\"] and\n",
    "        reference_bounds[\"x_min\"] <= x_max <= reference_bounds[\"x_max\"] and\n",
    "        reference_bounds[\"y_min\"] <= y_min <= reference_bounds[\"y_max\"] and\n",
    "        reference_bounds[\"y_min\"] <= y_max <= reference_bounds[\"y_max\"] and\n",
    "        reference_bounds[\"z_min\"] <= z_min <= reference_bounds[\"z_max\"] and\n",
    "        reference_bounds[\"z_min\"] <= z_max <= reference_bounds[\"z_max\"]\n",
    "    )\n",
    "\n",
    "    return within_bounds\n",
    "\n",
    "# Directory containing the .vtk files\n",
    "vtk_directory = \"/Users/User/Documents/Project_JEB/JEB_Data/SimJEB_volmesh_(vtk)\"  # Replace with the actual path to your .vtk files\n",
    "\n",
    "# Iterate through all .vtk files and check their bounds\n",
    "results = {}\n",
    "for file_name in os.listdir(vtk_directory):\n",
    "    if file_name.endswith(\".vtk\"):\n",
    "        file_path = os.path.join(vtk_directory, file_name)\n",
    "        is_within_bounds = check_bounds_within_reference(file_path, reference_bounds)\n",
    "        results[file_name] = is_within_bounds\n",
    "\n",
    "# Print results\n",
    "for file_name, is_within_bounds in results.items():\n",
    "    status = \"Within bounds\" if is_within_bounds else \"Out of bounds\"\n",
    "    if status == \"Out of bounds\":\n",
    "        print(f\"{file_name}: {status}\")\n"
   ]
  },
  {
   "cell_type": "code",
   "execution_count": 4,
   "metadata": {},
   "outputs": [
    {
     "data": {
      "application/vnd.jupyter.widget-view+json": {
       "model_id": "9451fd3ca2114a6c9e762dd83f7fd12a",
       "version_major": 2,
       "version_minor": 0
      },
      "text/plain": [
       "Widget(value='<iframe src=\"http://localhost:60889/index.html?ui=P_0x2d5f11fd0_2&reconnect=auto\" class=\"pyvista…"
      ]
     },
     "metadata": {},
     "output_type": "display_data"
    }
   ],
   "source": [
    "id = [169, 196, 357, 223, 356, 197, 69, 96, 94, 383, 382, 386, 387, 393, 92, 87, 123, 518, 493, 291, 293, 261, 114, 302, 262, 106, 271, 413, 407, 228, 374, 412, 614, 204, 205, 167, 165, 373, 366]\n",
    "ref = pv.read('/Users/User/Documents/Project_JEB/JEB_Data/SimJEB_volmesh_(vtk)/0.vtk')\n",
    "bounds = ref.bounds\n",
    "x_min, x_max, y_min, y_max, z_min, z_max = bounds\n",
    "\n",
    "# Create bounding planes\n",
    "bounding_planes = [\n",
    "    pv.Plane(center=((x_min-1), ((y_min-1) + (y_max+1)) / 2, ((z_min-1) + (z_max+1)) / 2), i_size=(y_max+1) - (y_min-1), j_size=(z_max+1) - (z_min-1), direction=(1, 0, 0)),  # X-min plane\n",
    "    pv.Plane(center=((x_max+1), ((y_min-1) + (y_max+1)) / 2, ((z_min-1) + (z_max+1)) / 2), i_size=(y_max+1) - (y_min-1), j_size=(z_max+1) - (z_min-1), direction=(-1, 0, 0)),  # X-max plane\n",
    "    pv.Plane(center=(((x_min-1) + (x_max+1)) / 2, (y_min-1), ((z_min-1) + (z_max+1)) / 2), i_size=(x_max+1) - (x_min-1), j_size=(z_max+1) - (z_min-1), direction=(0, 1, 0)),  # Y-min plane\n",
    "    pv.Plane(center=(((x_min-1) + (x_max+1)) / 2, (y_max+1), ((z_min-1) + (z_max+1)) / 2), i_size=(x_max+1) - (x_min-1), j_size=(z_max+1) - (z_min-1), direction=(0, -1, 0)),  # Y-max plane\n",
    "    pv.Plane(center=(((x_min-1) + (x_max+1)) / 2, ((y_min-1) + (y_max+1)) / 2, (z_min-1)), i_size=(x_max+1) - (x_min-1), j_size=(y_max+1) - (y_min-1), direction=(0, 0, 1)),  # Z-min plane\n",
    "    pv.Plane(center=(((x_min-1) + (x_max+1)) / 2, ((y_min-1) + (y_max+1)) / 2, (x_max+1)), i_size=(x_max+1) - (x_min-1), j_size=(y_max+1) - (y_min-1), direction=(0, 0, -1)),  # Z-max plane\n",
    "]\n",
    "plotter = pv.Plotter()\n",
    "for plane in bounding_planes:\n",
    "    plotter.add_mesh(plane, color='red', style='wireframe', line_width=2)\n",
    "for id in id:\n",
    "    mesh = pv.read(f'/Users/User/Documents/Project_JEB/JEB_Data/SimJEB_volmesh_(vtk)/{id}.vtk')\n",
    "    plotter.add_mesh(mesh, color='lightblue', opacity=0.6)\n",
    "plotter.add_mesh(ref, color='red', style='wireframe')   \n",
    "plotter.show()\n"
   ]
  },
  {
   "cell_type": "code",
   "execution_count": 10,
   "metadata": {},
   "outputs": [
    {
     "data": {
      "text/plain": [
       "39"
      ]
     },
     "execution_count": 10,
     "metadata": {},
     "output_type": "execute_result"
    }
   ],
   "source": [
    "id = [169, 196, 357, 223, 356, 197, 69, 96, 94, 383, 382, 386, 387, 393, 92, 87, 123, 518, 493, 291, 293, 261, 114, 302, 262, 106, 271, 413, 407, 228, 374, 412, 614, 204, 205, 167, 165, 373, 366]\n",
    "len(id)"
   ]
  },
  {
   "cell_type": "code",
   "execution_count": 12,
   "metadata": {},
   "outputs": [
    {
     "data": {
      "application/vnd.jupyter.widget-view+json": {
       "model_id": "3af77f57a8614c24ad4b14b7eaf33180",
       "version_major": 2,
       "version_minor": 0
      },
      "text/plain": [
       "Widget(value='<iframe src=\"http://localhost:62408/index.html?ui=P_0x2841f23c0_10&reconnect=auto\" class=\"pyvist…"
      ]
     },
     "metadata": {},
     "output_type": "display_data"
    }
   ],
   "source": [
    "ref = pv.read('/Users/User/Documents/Project_JEB/JEB_Data/SimJEB_volmesh_(vtk)/0.vtk')\n",
    "bounds = ref.bounds\n",
    "x_min, x_max, y_min, y_max, z_min, z_max = bounds\n",
    "\n",
    "# Create bounding planes\n",
    "bounding_planes = [\n",
    "    pv.Plane(center=((x_min-1), ((y_min-1) + (y_max+1)) / 2, ((z_min-1) + (z_max+1)) / 2), i_size=(y_max+1) - (y_min-1), j_size=(z_max+1) - (z_min-1), direction=(1, 0, 0)),  # X-min plane\n",
    "    pv.Plane(center=((x_max+1), ((y_min-1) + (y_max+1)) / 2, ((z_min-1) + (z_max+1)) / 2), i_size=(y_max+1) - (y_min-1), j_size=(z_max+1) - (z_min-1), direction=(-1, 0, 0)),  # X-max plane\n",
    "    pv.Plane(center=(((x_min-1) + (x_max+1)) / 2, (y_min-1), ((z_min-1) + (z_max+1)) / 2), i_size=(x_max+1) - (x_min-1), j_size=(z_max+1) - (z_min-1), direction=(0, 1, 0)),  # Y-min plane\n",
    "    pv.Plane(center=(((x_min-1) + (x_max+1)) / 2, (y_max+1), ((z_min-1) + (z_max+1)) / 2), i_size=(x_max+1) - (x_min-1), j_size=(z_max+1) - (z_min-1), direction=(0, -1, 0)),  # Y-max plane\n",
    "    pv.Plane(center=(((x_min-1) + (x_max+1)) / 2, ((y_min-1) + (y_max+1)) / 2, (z_min-1)), i_size=(x_max+1) - (x_min-1), j_size=(y_max+1) - (y_min-1), direction=(0, 0, 1)),  # Z-min plane\n",
    "    pv.Plane(center=(((x_min-1) + (x_max+1)) / 2, ((y_min-1) + (y_max+1)) / 2, (x_max+1)), i_size=(x_max+1) - (x_min-1), j_size=(y_max+1) - (y_min-1), direction=(0, 0, -1)),  # Z-max plane\n",
    "]\n",
    "plotter = pv.Plotter()\n",
    "for plane in bounding_planes:\n",
    "    plotter.add_mesh(plane, color='red', style='wireframe', line_width=2)\n",
    "mesh = pv.read('/Users/User/Documents/Project_JEB/JEB_Data/SimJEB_volmesh_(vtk)/96.vtk')\n",
    "plotter.add_mesh(mesh, color='lightblue')   \n",
    "plotter.show()\n"
   ]
  },
  {
   "cell_type": "code",
   "execution_count": 2,
   "metadata": {},
   "outputs": [
    {
     "data": {
      "application/vnd.jupyter.widget-view+json": {
       "model_id": "0eeb38401b2d4f8bb47593e67fbb0134",
       "version_major": 2,
       "version_minor": 0
      },
      "text/plain": [
       "Widget(value='<iframe src=\"http://localhost:63850/index.html?ui=P_0x16757d1c0_0&reconnect=auto\" class=\"pyvista…"
      ]
     },
     "metadata": {},
     "output_type": "display_data"
    }
   ],
   "source": [
    "mesh = pv.read('/Users/User/Documents/Project_JEB/JEB_Data/SimJEB_volmesh_(vtk)/4.vtk')\n",
    "\n",
    "bounds = mesh.bounds\n",
    "x_min, x_max, y_min, y_max, z_min, z_max = bounds\n",
    "\n",
    "# Create bounding planes\n",
    "plane = pv.Plane(center=(((x_min-10) + (x_max+10)) / 2, ((y_min-10) + (y_max+10)) / 2, (z_min)), i_size=(x_max+1) - (x_min-1), j_size=(y_max+1) - (y_min-1), direction=(0, 0, 1))\n",
    "\n",
    "# Visualize the mesh and the plane\n",
    "plotter = pv.Plotter()\n",
    "plotter.add_mesh(mesh, color=\"lightgray\", show_edges=True, label=\"Bracket Mesh\")\n",
    "plotter.add_mesh(plane, color='red', style='wireframe', line_width=2)\n",
    "plotter.add_legend()\n",
    "plotter.show()"
   ]
  },
  {
   "cell_type": "code",
   "execution_count": 6,
   "metadata": {},
   "outputs": [],
   "source": [
    "_ = mesh.compute_implicit_distance(plane, inplace=True)\n",
    "dist = mesh['implicit_distance']\n",
    "#type(dist)"
   ]
  },
  {
   "cell_type": "code",
   "execution_count": 7,
   "metadata": {},
   "outputs": [
    {
     "data": {
      "text/plain": [
       "37.30841299999121"
      ]
     },
     "execution_count": 7,
     "metadata": {},
     "output_type": "execute_result"
    }
   ],
   "source": [
    "np.quantile(dist, 0.75)"
   ]
  },
  {
   "cell_type": "code",
   "execution_count": 5,
   "metadata": {},
   "outputs": [
    {
     "data": {
      "application/vnd.jupyter.widget-view+json": {
       "model_id": "9481984559f74640afa49060df52646a",
       "version_major": 2,
       "version_minor": 0
      },
      "text/plain": [
       "Widget(value='<iframe src=\"http://localhost:63850/index.html?ui=P_0x17f339e80_1&reconnect=auto\" class=\"pyvista…"
      ]
     },
     "metadata": {},
     "output_type": "display_data"
    }
   ],
   "source": [
    "pl = pv.Plotter()\n",
    "_ = pl.add_mesh(\n",
    "    mesh, scalars='implicit_distance', cmap='bwr'\n",
    ")\n",
    "_ = pl.add_mesh(plane, color='w', style='wireframe')\n",
    "pl.show()"
   ]
  },
  {
   "cell_type": "code",
   "execution_count": 15,
   "metadata": {},
   "outputs": [],
   "source": [
    "data = pd.read_csv('/Users/User/Documents/Project_JEB/JEB_Data/workingdata.csv')\n",
    "\n",
    "def calc_thickness(mesh):\n",
    "    _ = mesh.compute_implicit_distance(plane, inplace=True)\n",
    "    dist = mesh['implicit_distance']\n",
    "    est_dist = np.quantile(dist, 0.75)\n",
    "    return est_dist\n",
    "    \n",
    "\n",
    "thickness = []\n",
    "for part_id in data['id']:\n",
    "    path = f\"/Users/User/Documents/Project_JEB/JEB_Data/SimJEB_volmesh_(vtk)/{part_id}.vtk\"\n",
    "    mesh = pv.read(path)\n",
    "    est_thickness = calc_thickness(mesh)\n",
    "    thickness.append(est_thickness)\n",
    "\n",
    "# Add the curvature column to the DataFrame\n",
    "data['thickness'] = thickness\n",
    "\n",
    "# Save the updated data\n",
    "updated_data_path = '/Users/User/Documents/Project_JEB/JEB_Data/workingdata.csv'\n",
    "data.to_csv(updated_data_path, index=False)"
   ]
  }
 ],
 "metadata": {
  "kernelspec": {
   "display_name": ".venv",
   "language": "python",
   "name": "python3"
  },
  "language_info": {
   "codemirror_mode": {
    "name": "ipython",
    "version": 3
   },
   "file_extension": ".py",
   "mimetype": "text/x-python",
   "name": "python",
   "nbconvert_exporter": "python",
   "pygments_lexer": "ipython3",
   "version": "3.12.4"
  }
 },
 "nbformat": 4,
 "nbformat_minor": 2
}
