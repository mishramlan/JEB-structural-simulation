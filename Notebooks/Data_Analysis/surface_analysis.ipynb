{
 "cells": [
  {
   "cell_type": "code",
   "execution_count": 1,
   "metadata": {},
   "outputs": [],
   "source": [
    "import tensorflow as tf\n",
    "import numpy as np\n",
    "import matplotlib.pyplot as plt \n",
    "import seaborn as sns \n",
    "import pyvista as pv \n",
    "import pandas as pd\n",
    "import os"
   ]
  },
  {
   "cell_type": "code",
   "execution_count": 40,
   "metadata": {},
   "outputs": [
    {
     "data": {
      "application/vnd.jupyter.widget-view+json": {
       "model_id": "8f8cf6c0a2cc4779ae88245b1885efa2",
       "version_major": 2,
       "version_minor": 0
      },
      "text/plain": [
       "Widget(value='<iframe src=\"http://localhost:58817/index.html?ui=P_0x2f67f29f0_29&reconnect=auto\" class=\"pyvist…"
      ]
     },
     "metadata": {},
     "output_type": "display_data"
    }
   ],
   "source": [
    "\n",
    "import random\n",
    "\n",
    "# Directory containing the .vtk files\n",
    "vtk_directory = \"/Users/User/Documents/Project_JEB/JEB_Data/SimJEB_volmesh_(vtk)/\"\n",
    "\n",
    "# Initialize PyVista plotter\n",
    "plotter = pv.Plotter()\n",
    "random.seed(0)\n",
    "# Loop through the files in the directory\n",
    "for filename in os.listdir(vtk_directory):\n",
    "    if filename.endswith(\".vtk\"):\n",
    "        # Extract the part_id from the filename\n",
    "        part_id = int(filename.split('.')[0])  # Adjust this logic to your filename pattern\n",
    "        \n",
    "        # Check if part_id is less than 10\n",
    "        if part_id > 100 and part_id < 150:\n",
    "            # Load the VTK file\n",
    "            filepath = os.path.join(vtk_directory, filename)\n",
    "            mesh = pv.read(filepath)\n",
    "            \n",
    "            #color = (random.random(), random.random(), random.random())\n",
    "            # Add the mesh to the plotter\n",
    "            plotter.add_mesh(mesh, opacity=0.5)\n",
    "            \n",
    "\n",
    "# Show the plot\n",
    "#mesh2 = pv.read(\"/Users/User/Documents/Project_JEB/JEB_Data/SimJEB_volmesh_(vtk)/71.vtk\")\n",
    "#plotter.add_mesh(mesh2, color='red')\n",
    "plotter.show()\n"
   ]
  },
  {
   "cell_type": "code",
   "execution_count": 44,
   "metadata": {},
   "outputs": [
    {
     "data": {
      "application/vnd.jupyter.widget-view+json": {
       "model_id": "04aa00b24f284575bd14ce1684cf16f8",
       "version_major": 2,
       "version_minor": 0
      },
      "text/plain": [
       "Widget(value='<iframe src=\"http://localhost:58817/index.html?ui=P_0x2f67f9d60_33&reconnect=auto\" class=\"pyvist…"
      ]
     },
     "metadata": {},
     "output_type": "display_data"
    }
   ],
   "source": [
    "\n",
    "\n",
    "# Load the .vtk file\n",
    "file_path = '/Users/User/Documents/Project_JEB/JEB_Data/SimJEB_volmesh_(vtk)/0.vtk'\n",
    "mesh = pv.read(file_path)\n",
    "mesh2 = pv.read('/Users/User/Documents/Project_JEB/JEB_Data/SimJEB_volmesh_(vtk)/4.vtk')\n",
    "# Get the bounding box of the mesh\n",
    "bounds = mesh.bounds\n",
    "x_min, x_max, y_min, y_max, z_min, z_max = bounds\n",
    "\n",
    "# Create bounding planes\n",
    "bounding_planes = [\n",
    "    pv.Plane(center=((x_min-1), ((y_min-1) + (y_max+1)) / 2, ((z_min-1) + (z_max+1)) / 2), i_size=(y_max+1) - (y_min-1), j_size=(z_max+1) - (z_min-1), direction=(1, 0, 0)),  # X-min plane\n",
    "    pv.Plane(center=((x_max+1), ((y_min-1) + (y_max+1)) / 2, ((z_min-1) + (z_max+1)) / 2), i_size=(y_max+1) - (y_min-1), j_size=(z_max+1) - (z_min-1), direction=(-1, 0, 0)),  # X-max plane\n",
    "    pv.Plane(center=(((x_min-1) + (x_max+1)) / 2, (y_min-1), ((z_min-1) + (z_max+1)) / 2), i_size=(x_max+1) - (x_min-1), j_size=(z_max+1) - (z_min-1), direction=(0, 1, 0)),  # Y-min plane\n",
    "    pv.Plane(center=(((x_min-1) + (x_max+1)) / 2, (y_max+1), ((z_min-1) + (z_max+1)) / 2), i_size=(x_max+1) - (x_min-1), j_size=(z_max+1) - (z_min-1), direction=(0, -1, 0)),  # Y-max plane\n",
    "    pv.Plane(center=(((x_min-1) + (x_max+1)) / 2, ((y_min-1) + (y_max+1)) / 2, (z_min-1)), i_size=(x_max+1) - (x_min-1), j_size=(y_max+1) - (y_min-1), direction=(0, 0, 1)),  # Z-min plane\n",
    "    pv.Plane(center=(((x_min-1) + (x_max+1)) / 2, ((y_min-1) + (y_max+1)) / 2, (x_max+1)), i_size=(x_max+1) - (x_min-1), j_size=(y_max+1) - (y_min-1), direction=(0, 0, -1)),  # Z-max plane\n",
    "]\n",
    "\n",
    "# Plot the mesh with bounding planes\n",
    "plotter = pv.Plotter()\n",
    "plotter.add_mesh(mesh, color='lightblue', opacity=0.6)\n",
    "plotter.add_mesh(mesh2, color='red', opacity=0.6)\n",
    "for plane in bounding_planes:\n",
    "    plotter.add_mesh(plane, color='red', style='wireframe', line_width=2)\n",
    "plotter.show()\n"
   ]
  },
  {
   "cell_type": "code",
   "execution_count": 2,
   "metadata": {},
   "outputs": [
    {
     "name": "stdout",
     "output_type": "stream",
     "text": [
      "(-39.1626, 67.33007, -163.357, 16.81476, -0.0007957, 62.5031)\n"
     ]
    }
   ],
   "source": [
    "# Load the .vtk file\n",
    "file_path = '/Users/User/Documents/Project_JEB/JEB_Data/SimJEB_volmesh_(vtk)/0.vtk'\n",
    "mesh = pv.read(file_path)\n",
    "# Get the bounding box of the mesh\n",
    "bounds = mesh.bounds\n",
    "x_min, x_max, y_min, y_max, z_min, z_max = bounds\n",
    "print(bounds)"
   ]
  },
  {
   "cell_type": "code",
   "execution_count": 5,
   "metadata": {},
   "outputs": [
    {
     "name": "stdout",
     "output_type": "stream",
     "text": [
      "169.vtk: Out of bounds\n",
      "196.vtk: Out of bounds\n",
      "357.vtk: Out of bounds\n",
      "223.vtk: Out of bounds\n",
      "356.vtk: Out of bounds\n",
      "197.vtk: Out of bounds\n",
      "69.vtk: Out of bounds\n",
      "96.vtk: Out of bounds\n",
      "94.vtk: Out of bounds\n",
      "383.vtk: Out of bounds\n",
      "382.vtk: Out of bounds\n",
      "386.vtk: Out of bounds\n",
      "387.vtk: Out of bounds\n",
      "393.vtk: Out of bounds\n",
      "92.vtk: Out of bounds\n",
      "87.vtk: Out of bounds\n",
      "123.vtk: Out of bounds\n",
      "518.vtk: Out of bounds\n",
      "493.vtk: Out of bounds\n",
      "291.vtk: Out of bounds\n",
      "293.vtk: Out of bounds\n",
      "261.vtk: Out of bounds\n",
      "114.vtk: Out of bounds\n",
      "302.vtk: Out of bounds\n",
      "262.vtk: Out of bounds\n",
      "106.vtk: Out of bounds\n",
      "271.vtk: Out of bounds\n",
      "413.vtk: Out of bounds\n",
      "407.vtk: Out of bounds\n",
      "228.vtk: Out of bounds\n",
      "374.vtk: Out of bounds\n",
      "412.vtk: Out of bounds\n",
      "614.vtk: Out of bounds\n",
      "204.vtk: Out of bounds\n",
      "205.vtk: Out of bounds\n",
      "601.vtk: Out of bounds\n",
      "167.vtk: Out of bounds\n",
      "165.vtk: Out of bounds\n",
      "373.vtk: Out of bounds\n",
      "366.vtk: Out of bounds\n"
     ]
    }
   ],
   "source": [
    "\n",
    "reference_bounds = {\n",
    "    \"x_min\": x_min - 1,  # Buffer of 1\n",
    "    \"x_max\": x_max + 1,  # Replace 10 with the actual max value of the reference bounds\n",
    "    \"y_min\": y_min - 1,\n",
    "    \"y_max\": y_max + 1,\n",
    "    \"z_min\": z_min - 1,\n",
    "    \"z_max\": z_max + 1,\n",
    "}\n",
    "\n",
    "def check_bounds_within_reference(file_path, reference_bounds):\n",
    "    # Load the mesh\n",
    "    mesh = pv.read(file_path)\n",
    "    \n",
    "    # Get the bounds of the mesh\n",
    "    x_min, x_max, y_min, y_max, z_min, z_max = mesh.bounds\n",
    "\n",
    "    # Check if the mesh bounds lie within the reference bounds\n",
    "    within_bounds = (\n",
    "        reference_bounds[\"x_min\"] <= x_min <= reference_bounds[\"x_max\"] and\n",
    "        reference_bounds[\"x_min\"] <= x_max <= reference_bounds[\"x_max\"] and\n",
    "        reference_bounds[\"y_min\"] <= y_min <= reference_bounds[\"y_max\"] and\n",
    "        reference_bounds[\"y_min\"] <= y_max <= reference_bounds[\"y_max\"] and\n",
    "        reference_bounds[\"z_min\"] <= z_min <= reference_bounds[\"z_max\"] and\n",
    "        reference_bounds[\"z_min\"] <= z_max <= reference_bounds[\"z_max\"]\n",
    "    )\n",
    "\n",
    "    return within_bounds\n",
    "\n",
    "# Directory containing the .vtk files\n",
    "vtk_directory = \"/Users/User/Documents/Project_JEB/JEB_Data/SimJEB_volmesh_(vtk)\"  # Replace with the actual path to your .vtk files\n",
    "\n",
    "# Iterate through all .vtk files and check their bounds\n",
    "results = {}\n",
    "for file_name in os.listdir(vtk_directory):\n",
    "    if file_name.endswith(\".vtk\"):\n",
    "        file_path = os.path.join(vtk_directory, file_name)\n",
    "        is_within_bounds = check_bounds_within_reference(file_path, reference_bounds)\n",
    "        results[file_name] = is_within_bounds\n",
    "\n",
    "# Print results\n",
    "for file_name, is_within_bounds in results.items():\n",
    "    status = \"Within bounds\" if is_within_bounds else \"Out of bounds\"\n",
    "    if status == \"Out of bounds\":\n",
    "        print(f\"{file_name}: {status}\")\n"
   ]
  },
  {
   "cell_type": "code",
   "execution_count": 4,
   "metadata": {},
   "outputs": [
    {
     "data": {
      "application/vnd.jupyter.widget-view+json": {
       "model_id": "9451fd3ca2114a6c9e762dd83f7fd12a",
       "version_major": 2,
       "version_minor": 0
      },
      "text/plain": [
       "Widget(value='<iframe src=\"http://localhost:60889/index.html?ui=P_0x2d5f11fd0_2&reconnect=auto\" class=\"pyvista…"
      ]
     },
     "metadata": {},
     "output_type": "display_data"
    }
   ],
   "source": [
    "id = [169, 196, 357, 223, 356, 197, 69, 96, 94, 383, 382, 386, 387, 393, 92, 87, 123, 518, 493, 291, 293, 261, 114, 302, 262, 106, 271, 413, 407, 228, 374, 412, 614, 204, 205, 167, 165, 373, 366]\n",
    "ref = pv.read('/Users/User/Documents/Project_JEB/JEB_Data/SimJEB_volmesh_(vtk)/0.vtk')\n",
    "bounds = ref.bounds\n",
    "x_min, x_max, y_min, y_max, z_min, z_max = bounds\n",
    "\n",
    "# Create bounding planes\n",
    "bounding_planes = [\n",
    "    pv.Plane(center=((x_min-1), ((y_min-1) + (y_max+1)) / 2, ((z_min-1) + (z_max+1)) / 2), i_size=(y_max+1) - (y_min-1), j_size=(z_max+1) - (z_min-1), direction=(1, 0, 0)),  # X-min plane\n",
    "    pv.Plane(center=((x_max+1), ((y_min-1) + (y_max+1)) / 2, ((z_min-1) + (z_max+1)) / 2), i_size=(y_max+1) - (y_min-1), j_size=(z_max+1) - (z_min-1), direction=(-1, 0, 0)),  # X-max plane\n",
    "    pv.Plane(center=(((x_min-1) + (x_max+1)) / 2, (y_min-1), ((z_min-1) + (z_max+1)) / 2), i_size=(x_max+1) - (x_min-1), j_size=(z_max+1) - (z_min-1), direction=(0, 1, 0)),  # Y-min plane\n",
    "    pv.Plane(center=(((x_min-1) + (x_max+1)) / 2, (y_max+1), ((z_min-1) + (z_max+1)) / 2), i_size=(x_max+1) - (x_min-1), j_size=(z_max+1) - (z_min-1), direction=(0, -1, 0)),  # Y-max plane\n",
    "    pv.Plane(center=(((x_min-1) + (x_max+1)) / 2, ((y_min-1) + (y_max+1)) / 2, (z_min-1)), i_size=(x_max+1) - (x_min-1), j_size=(y_max+1) - (y_min-1), direction=(0, 0, 1)),  # Z-min plane\n",
    "    pv.Plane(center=(((x_min-1) + (x_max+1)) / 2, ((y_min-1) + (y_max+1)) / 2, (x_max+1)), i_size=(x_max+1) - (x_min-1), j_size=(y_max+1) - (y_min-1), direction=(0, 0, -1)),  # Z-max plane\n",
    "]\n",
    "plotter = pv.Plotter()\n",
    "for plane in bounding_planes:\n",
    "    plotter.add_mesh(plane, color='red', style='wireframe', line_width=2)\n",
    "for id in id:\n",
    "    mesh = pv.read(f'/Users/User/Documents/Project_JEB/JEB_Data/SimJEB_volmesh_(vtk)/{id}.vtk')\n",
    "    plotter.add_mesh(mesh, color='lightblue', opacity=0.6)\n",
    "plotter.add_mesh(ref, color='red', style='wireframe')   \n",
    "plotter.show()\n"
   ]
  },
  {
   "cell_type": "code",
   "execution_count": 10,
   "metadata": {},
   "outputs": [
    {
     "data": {
      "text/plain": [
       "39"
      ]
     },
     "execution_count": 10,
     "metadata": {},
     "output_type": "execute_result"
    }
   ],
   "source": [
    "id = [169, 196, 357, 223, 356, 197, 69, 96, 94, 383, 382, 386, 387, 393, 92, 87, 123, 518, 493, 291, 293, 261, 114, 302, 262, 106, 271, 413, 407, 228, 374, 412, 614, 204, 205, 167, 165, 373, 366]\n",
    "len(id)"
   ]
  },
  {
   "cell_type": "code",
   "execution_count": 12,
   "metadata": {},
   "outputs": [
    {
     "data": {
      "application/vnd.jupyter.widget-view+json": {
       "model_id": "3af77f57a8614c24ad4b14b7eaf33180",
       "version_major": 2,
       "version_minor": 0
      },
      "text/plain": [
       "Widget(value='<iframe src=\"http://localhost:62408/index.html?ui=P_0x2841f23c0_10&reconnect=auto\" class=\"pyvist…"
      ]
     },
     "metadata": {},
     "output_type": "display_data"
    }
   ],
   "source": [
    "ref = pv.read('/Users/User/Documents/Project_JEB/JEB_Data/SimJEB_volmesh_(vtk)/0.vtk')\n",
    "bounds = ref.bounds\n",
    "x_min, x_max, y_min, y_max, z_min, z_max = bounds\n",
    "\n",
    "# Create bounding planes\n",
    "bounding_planes = [\n",
    "    pv.Plane(center=((x_min-1), ((y_min-1) + (y_max+1)) / 2, ((z_min-1) + (z_max+1)) / 2), i_size=(y_max+1) - (y_min-1), j_size=(z_max+1) - (z_min-1), direction=(1, 0, 0)),  # X-min plane\n",
    "    pv.Plane(center=((x_max+1), ((y_min-1) + (y_max+1)) / 2, ((z_min-1) + (z_max+1)) / 2), i_size=(y_max+1) - (y_min-1), j_size=(z_max+1) - (z_min-1), direction=(-1, 0, 0)),  # X-max plane\n",
    "    pv.Plane(center=(((x_min-1) + (x_max+1)) / 2, (y_min-1), ((z_min-1) + (z_max+1)) / 2), i_size=(x_max+1) - (x_min-1), j_size=(z_max+1) - (z_min-1), direction=(0, 1, 0)),  # Y-min plane\n",
    "    pv.Plane(center=(((x_min-1) + (x_max+1)) / 2, (y_max+1), ((z_min-1) + (z_max+1)) / 2), i_size=(x_max+1) - (x_min-1), j_size=(z_max+1) - (z_min-1), direction=(0, -1, 0)),  # Y-max plane\n",
    "    pv.Plane(center=(((x_min-1) + (x_max+1)) / 2, ((y_min-1) + (y_max+1)) / 2, (z_min-1)), i_size=(x_max+1) - (x_min-1), j_size=(y_max+1) - (y_min-1), direction=(0, 0, 1)),  # Z-min plane\n",
    "    pv.Plane(center=(((x_min-1) + (x_max+1)) / 2, ((y_min-1) + (y_max+1)) / 2, (x_max+1)), i_size=(x_max+1) - (x_min-1), j_size=(y_max+1) - (y_min-1), direction=(0, 0, -1)),  # Z-max plane\n",
    "]\n",
    "plotter = pv.Plotter()\n",
    "for plane in bounding_planes:\n",
    "    plotter.add_mesh(plane, color='red', style='wireframe', line_width=2)\n",
    "mesh = pv.read('/Users/User/Documents/Project_JEB/JEB_Data/SimJEB_volmesh_(vtk)/96.vtk')\n",
    "plotter.add_mesh(mesh, color='lightblue')   \n",
    "plotter.show()\n"
   ]
  },
  {
   "cell_type": "code",
   "execution_count": 2,
   "metadata": {},
   "outputs": [
    {
     "data": {
      "application/vnd.jupyter.widget-view+json": {
       "model_id": "0eeb38401b2d4f8bb47593e67fbb0134",
       "version_major": 2,
       "version_minor": 0
      },
      "text/plain": [
       "Widget(value='<iframe src=\"http://localhost:63850/index.html?ui=P_0x16757d1c0_0&reconnect=auto\" class=\"pyvista…"
      ]
     },
     "metadata": {},
     "output_type": "display_data"
    }
   ],
   "source": [
    "mesh = pv.read('/Users/User/Documents/Project_JEB/JEB_Data/SimJEB_volmesh_(vtk)/4.vtk')\n",
    "\n",
    "bounds = mesh.bounds\n",
    "x_min, x_max, y_min, y_max, z_min, z_max = bounds\n",
    "\n",
    "# Create bounding planes\n",
    "plane = pv.Plane(center=(((x_min-10) + (x_max+10)) / 2, ((y_min-10) + (y_max+10)) / 2, (z_min)), i_size=(x_max+1) - (x_min-1), j_size=(y_max+1) - (y_min-1), direction=(0, 0, 1))\n",
    "\n",
    "# Visualize the mesh and the plane\n",
    "plotter = pv.Plotter()\n",
    "plotter.add_mesh(mesh, color=\"lightgray\", show_edges=True, label=\"Bracket Mesh\")\n",
    "plotter.add_mesh(plane, color='red', style='wireframe', line_width=2)\n",
    "plotter.add_legend()\n",
    "plotter.show()"
   ]
  },
  {
   "cell_type": "code",
   "execution_count": 6,
   "metadata": {},
   "outputs": [],
   "source": [
    "_ = mesh.compute_implicit_distance(plane, inplace=True)\n",
    "dist = mesh['implicit_distance']\n",
    "#type(dist)"
   ]
  },
  {
   "cell_type": "code",
   "execution_count": 7,
   "metadata": {},
   "outputs": [
    {
     "data": {
      "text/plain": [
       "37.30841299999121"
      ]
     },
     "execution_count": 7,
     "metadata": {},
     "output_type": "execute_result"
    }
   ],
   "source": [
    "np.quantile(dist, 0.75)"
   ]
  },
  {
   "cell_type": "code",
   "execution_count": 5,
   "metadata": {},
   "outputs": [
    {
     "data": {
      "application/vnd.jupyter.widget-view+json": {
       "model_id": "9481984559f74640afa49060df52646a",
       "version_major": 2,
       "version_minor": 0
      },
      "text/plain": [
       "Widget(value='<iframe src=\"http://localhost:63850/index.html?ui=P_0x17f339e80_1&reconnect=auto\" class=\"pyvista…"
      ]
     },
     "metadata": {},
     "output_type": "display_data"
    }
   ],
   "source": [
    "pl = pv.Plotter()\n",
    "_ = pl.add_mesh(\n",
    "    mesh, scalars='implicit_distance', cmap='bwr'\n",
    ")\n",
    "_ = pl.add_mesh(plane, color='w', style='wireframe')\n",
    "pl.show()"
   ]
  },
  {
   "cell_type": "code",
   "execution_count": 15,
   "metadata": {},
   "outputs": [],
   "source": [
    "data = pd.read_csv('/Users/User/Documents/Project_JEB/JEB_Data/workingdata.csv')\n",
    "\n",
    "def calc_thickness(mesh):\n",
    "    _ = mesh.compute_implicit_distance(plane, inplace=True)\n",
    "    dist = mesh['implicit_distance']\n",
    "    est_dist = np.quantile(dist, 0.75)\n",
    "    return est_dist\n",
    "    \n",
    "\n",
    "thickness = []\n",
    "for part_id in data['id']:\n",
    "    path = f\"/Users/User/Documents/Project_JEB/JEB_Data/SimJEB_volmesh_(vtk)/{part_id}.vtk\"\n",
    "    mesh = pv.read(path)\n",
    "    est_thickness = calc_thickness(mesh)\n",
    "    thickness.append(est_thickness)\n",
    "\n",
    "# Add the curvature column to the DataFrame\n",
    "data['thickness'] = thickness\n",
    "\n",
    "# Save the updated data\n",
    "updated_data_path = '/Users/User/Documents/Project_JEB/JEB_Data/workingdata.csv'\n",
    "data.to_csv(updated_data_path, index=False)"
   ]
  },
  {
   "cell_type": "code",
   "execution_count": 71,
   "metadata": {},
   "outputs": [
    {
     "data": {
      "application/vnd.jupyter.widget-view+json": {
       "model_id": "e947f93d2660476ba60b034c8e027ac6",
       "version_major": 2,
       "version_minor": 0
      },
      "text/plain": [
       "Widget(value='<iframe src=\"http://localhost:63850/index.html?ui=P_0x2d5441df0_24&reconnect=auto\" class=\"pyvist…"
      ]
     },
     "metadata": {},
     "output_type": "display_data"
    }
   ],
   "source": [
    "mesh = pv.read('/Users/User/Documents/Project_JEB/JEB_Data/SimJEB_surfmesh_(obj)/373.obj')\n",
    "\n",
    "mesh.plot()\n",
    "\n",
    "# Compute the minimum Z-coordinate of the mesh\n",
    "z_min = mesh.bounds[4]  # The 5th value in bounds is the minimum Z\n",
    "\n",
    "# Compute normals (useful for identifying flat surfaces where holes might be located)\n",
    "mesh.compute_normals(inplace=True)\n",
    "\n",
    "# Extract edges corresponding to boundaries\n",
    "edges = mesh.extract_feature_edges(boundary_edges=True, non_manifold_edges=False)"
   ]
  },
  {
   "cell_type": "code",
   "execution_count": 72,
   "metadata": {},
   "outputs": [
    {
     "name": "stdout",
     "output_type": "stream",
     "text": [
      "Hole centers on z_min plane: []\n"
     ]
    }
   ],
   "source": [
    "holes = []\n",
    "for edge in edges.connectivity().split_bodies():  # Splits connected regions\n",
    "    if edge.area < 0.5:  # Filter based on area or radius of the edge loop\n",
    "        holes.append(edge)\n",
    "\n",
    "# Get the centroids of the identified holes that are on the z_min plane\n",
    "hole_centers = []\n",
    "for hole in holes:\n",
    "    center = hole.center\n",
    "    if np.isclose(center[2], z_min, atol=1e-3):  # Check if Z-coordinate is near z_min\n",
    "        hole_centers.append(center)\n",
    "\n",
    "# Print or plot the hole centers on the z_min plane\n",
    "print(f\"Hole centers on z_min plane: {hole_centers}\")\n"
   ]
  },
  {
   "cell_type": "code",
   "execution_count": 73,
   "metadata": {},
   "outputs": [
    {
     "data": {
      "application/vnd.jupyter.widget-view+json": {
       "model_id": "64246352e58c4f06a3bf501462d03aae",
       "version_major": 2,
       "version_minor": 0
      },
      "text/plain": [
       "Widget(value='<iframe src=\"http://localhost:63850/index.html?ui=P_0x112bcd9a0_25&reconnect=auto\" class=\"pyvist…"
      ]
     },
     "metadata": {},
     "output_type": "display_data"
    }
   ],
   "source": [
    "plotter = pv.Plotter()\n",
    "plotter.add_mesh(mesh, color=\"lightgrey\")\n",
    "for center in hole_centers:\n",
    "    plotter.add_mesh(pv.Sphere(radius=1.0, center=center), color=\"red\")  # Adjust radius as needed\n",
    "plotter.show()"
   ]
  },
  {
   "cell_type": "code",
   "execution_count": 74,
   "metadata": {},
   "outputs": [
    {
     "ename": "ValueError",
     "evalue": "min() iterable argument is empty",
     "output_type": "error",
     "traceback": [
      "\u001b[0;31m---------------------------------------------------------------------------\u001b[0m",
      "\u001b[0;31mValueError\u001b[0m                                Traceback (most recent call last)",
      "\u001b[1;32m/Users/User/Documents/Project_JEB/Notebooks/Data_Analysis/surface_analysis.ipynb Cell 17\u001b[0m line \u001b[0;36m1\n\u001b[1;32m     <a href='vscode-notebook-cell:/Users/User/Documents/Project_JEB/Notebooks/Data_Analysis/surface_analysis.ipynb#X52sZmlsZQ%3D%3D?line=9'>10</a>\u001b[0m closest_hole_centers \u001b[39m=\u001b[39m []\n\u001b[1;32m     <a href='vscode-notebook-cell:/Users/User/Documents/Project_JEB/Notebooks/Data_Analysis/surface_analysis.ipynb#X52sZmlsZQ%3D%3D?line=10'>11</a>\u001b[0m \u001b[39mfor\u001b[39;00m corner \u001b[39min\u001b[39;00m corners:\n\u001b[0;32m---> <a href='vscode-notebook-cell:/Users/User/Documents/Project_JEB/Notebooks/Data_Analysis/surface_analysis.ipynb#X52sZmlsZQ%3D%3D?line=11'>12</a>\u001b[0m     closest_hole \u001b[39m=\u001b[39m \u001b[39mmin\u001b[39;49m(hole_centers, key\u001b[39m=\u001b[39;49m\u001b[39mlambda\u001b[39;49;00m center: np\u001b[39m.\u001b[39;49mlinalg\u001b[39m.\u001b[39;49mnorm(np\u001b[39m.\u001b[39;49marray(center) \u001b[39m-\u001b[39;49m np\u001b[39m.\u001b[39;49marray(corner)))\n\u001b[1;32m     <a href='vscode-notebook-cell:/Users/User/Documents/Project_JEB/Notebooks/Data_Analysis/surface_analysis.ipynb#X52sZmlsZQ%3D%3D?line=12'>13</a>\u001b[0m     closest_hole_centers\u001b[39m.\u001b[39mappend(closest_hole)\n",
      "\u001b[0;31mValueError\u001b[0m: min() iterable argument is empty"
     ]
    }
   ],
   "source": [
    "# Define the corner points on the z_min plane\n",
    "corners = [\n",
    "    (x_min, y_min, z_min),\n",
    "    (x_max, y_min, z_min),\n",
    "    (x_min, y_max, z_min),\n",
    "    (x_max, y_max, z_min)\n",
    "]\n",
    "\n",
    "# Find the closest hole center to each corner\n",
    "closest_hole_centers = []\n",
    "for corner in corners:\n",
    "    closest_hole = min(hole_centers, key=lambda center: np.linalg.norm(np.array(center) - np.array(corner)))\n",
    "    closest_hole_centers.append(closest_hole)"
   ]
  },
  {
   "cell_type": "code",
   "execution_count": 75,
   "metadata": {},
   "outputs": [
    {
     "data": {
      "application/vnd.jupyter.widget-view+json": {
       "model_id": "0519b180df224c15b795289ea95b1769",
       "version_major": 2,
       "version_minor": 0
      },
      "text/plain": [
       "Widget(value='<iframe src=\"http://localhost:63850/index.html?ui=P_0x113387f80_26&reconnect=auto\" class=\"pyvist…"
      ]
     },
     "metadata": {},
     "output_type": "display_data"
    }
   ],
   "source": [
    "plotter = pv.Plotter()\n",
    "plotter.add_mesh(mesh, color=\"lightgrey\")\n",
    "for center in hole_centers:\n",
    "    plotter.add_mesh(pv.Sphere(radius=0.5, center=center), color=\"blue\")  # All hole centers in blue\n",
    "for center in closest_hole_centers:\n",
    "    plotter.add_mesh(pv.Sphere(radius=1.0, center=center), color=\"red\")  # Closest centers in red\n",
    "plotter.show()"
   ]
  },
  {
   "cell_type": "code",
   "execution_count": 49,
   "metadata": {},
   "outputs": [
    {
     "name": "stdout",
     "output_type": "stream",
     "text": [
      "IDs where no holes are found: [4, 8, 9, 16, 50, 53, 55, 62, 66, 69, 73, 102, 114, 115, 116, 121, 123, 187, 207, 234, 268, 302, 316, 318, 337, 342, 357, 364, 365, 373, 400, 448, 454, 460, 461, 462, 466, 471, 472, 479, 489, 501, 534, 536, 551, 556, 571, 587, 605, 628, 630]\n",
      "IDs where hole centers do not match the reference: [6, 29, 70, 71, 78, 94, 96, 130, 142, 196, 228, 270, 281, 296, 308, 309, 325, 356, 361, 374, 378, 390, 393, 420, 464, 495, 498, 533, 545, 590, 595, 615, 624, 633]\n",
      "Total no. of unacceptable designs: 85\n"
     ]
    }
   ],
   "source": [
    "import numpy as np\n",
    "import pandas as pd\n",
    "import pyvista as pv\n",
    "\n",
    "def loc_holes(mesh):\n",
    "    z_min = mesh.bounds[4]  \n",
    "    mesh.compute_normals(inplace=True)\n",
    "    edges = mesh.extract_feature_edges(boundary_edges=True, non_manifold_edges=False)\n",
    "    holes = []\n",
    "    for edge in edges.connectivity().split_bodies():  \n",
    "        if edge.area < 0.5:  \n",
    "            holes.append(edge)\n",
    "    return [hole.center for hole in holes if np.isclose(hole.center[2], z_min, atol=1e-3)]\n",
    "\n",
    "def corner_holes(hole_centers, z_min, x_min, x_max, y_min, y_max):\n",
    "    corners = [\n",
    "        (x_min, y_min, z_min),\n",
    "        (x_max, y_min, z_min),\n",
    "        (x_min, y_max, z_min),\n",
    "        (x_max, y_max, z_min)\n",
    "    ]\n",
    "\n",
    "    closest_hole_centers = []\n",
    "    for corner in corners:\n",
    "        closest_hole = min(hole_centers, key=lambda center: np.linalg.norm(np.array(center) - np.array(corner)))\n",
    "        closest_hole_centers.append(closest_hole)\n",
    "    return closest_hole_centers\n",
    "\n",
    "ref_mesh = pv.read('/Users/User/Documents/Project_JEB/JEB_Data/SimJEB_surfmesh_(obj)/0.obj')\n",
    "ref_z_min = ref_mesh.bounds[4] \n",
    "x_min, x_max, y_min, y_max, _, _ = ref_mesh.bounds\n",
    "\n",
    "ref_mesh.compute_normals(inplace=True)\n",
    "ref_edges = ref_mesh.extract_feature_edges(boundary_edges=True, non_manifold_edges=False)\n",
    "ref_holes = []\n",
    "for edge in ref_edges.connectivity().split_bodies(): \n",
    "    if edge.area < 0.5: \n",
    "        ref_holes.append(edge)\n",
    "\n",
    "ref_hole_centers = []\n",
    "for hole in ref_holes:\n",
    "    ref_center = hole.center\n",
    "    if np.isclose(ref_center[2], ref_z_min, atol=1e-3):  \n",
    "        ref_hole_centers.append(ref_center)\n",
    "\n",
    "missing_match_ids = []\n",
    "no_hole_ids = []\n",
    "\n",
    "data = pd.read_csv('/Users/User/Documents/Project_JEB/JEB_Data/workingdata.csv')\n",
    "\n",
    "for part_id in data['id']:\n",
    "    path = f\"/Users/User/Documents/Project_JEB/JEB_Data/SimJEB_surfmesh_(obj)/{part_id}.obj\"\n",
    "    mesh = pv.read(path)\n",
    "\n",
    "    hole_centers = loc_holes(mesh)\n",
    "    if len(hole_centers) == 0:\n",
    "        no_hole_ids.append(part_id)\n",
    "        continue\n",
    "\n",
    "    c_holes = corner_holes(hole_centers, ref_z_min, x_min, x_max, y_min, y_max)\n",
    "\n",
    "    # Check if the x and y coordinates match with tolerance\n",
    "    match_found = True\n",
    "    for ref_hole in ref_hole_centers:\n",
    "        ref_x, ref_y = ref_hole[:2]\n",
    "        if not any(np.isclose(hc[0], ref_x, atol=0.5) and np.isclose(hc[1], ref_y, atol=0.5) for hc in c_holes):\n",
    "            match_found = False\n",
    "            break\n",
    "\n",
    "    if not match_found:\n",
    "        missing_match_ids.append(part_id)\n",
    "\n",
    "# Print results\n",
    "print(\"IDs where no holes are found:\", no_hole_ids)\n",
    "print(\"IDs where hole centers do not match the reference:\", missing_match_ids)\n",
    "print(\"Total no. of unacceptable designs:\", len(no_hole_ids)+len(missing_match_ids))"
   ]
  },
  {
   "cell_type": "code",
   "execution_count": 47,
   "metadata": {},
   "outputs": [
    {
     "data": {
      "application/vnd.jupyter.widget-view+json": {
       "model_id": "9b95165d1210447e81347dec7cf99bf6",
       "version_major": 2,
       "version_minor": 0
      },
      "text/plain": [
       "Widget(value='<iframe src=\"http://localhost:58173/index.html?ui=P_0x3a8ffeba0_33&reconnect=auto\" class=\"pyvist…"
      ]
     },
     "metadata": {},
     "output_type": "display_data"
    }
   ],
   "source": [
    "ref = pv.read('/Users/User/Documents/Project_JEB/JEB_Data/SimJEB_volmesh_(vtk)/0.vtk')\n",
    "plotter = pv.Plotter()\n",
    "mesh = pv.read('/Users/User/Documents/Project_JEB/JEB_Data/SimJEB_volmesh_(vtk)/6.vtk')\n",
    "plotter.add_mesh(ref, color='red', opacity=0.4)\n",
    "plotter.add_mesh(mesh, color='lightblue', opacity=0.5)   \n",
    "plotter.show()"
   ]
  }
 ],
 "metadata": {
  "kernelspec": {
   "display_name": ".venv",
   "language": "python",
   "name": "python3"
  },
  "language_info": {
   "codemirror_mode": {
    "name": "ipython",
    "version": 3
   },
   "file_extension": ".py",
   "mimetype": "text/x-python",
   "name": "python",
   "nbconvert_exporter": "python",
   "pygments_lexer": "ipython3",
   "version": "3.12.4"
  }
 },
 "nbformat": 4,
 "nbformat_minor": 2
}
